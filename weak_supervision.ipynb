{
  "cells": [
    {
      "cell_type": "code",
      "execution_count": 1,
      "id": "yPN3bReX3Z0a",
      "metadata": {
        "colab": {
          "base_uri": "https://localhost:8080/"
        },
        "id": "yPN3bReX3Z0a",
        "outputId": "62f787a1-f773-4b24-878f-fcf5670b9bd1"
      },
      "outputs": [
        {
          "name": "stdout",
          "output_type": "stream",
          "text": [
            "Drive already mounted at /content/drive; to attempt to forcibly remount, call drive.mount(\"/content/drive\", force_remount=True).\n"
          ]
        }
      ],
      "source": [
        "from google.colab import drive\n",
        "drive.mount('/content/drive')"
      ]
    },
    {
      "cell_type": "code",
      "execution_count": 2,
      "id": "RVB2a2eaMXDA",
      "metadata": {
        "id": "RVB2a2eaMXDA"
      },
      "outputs": [],
      "source": [
        "! pip -q install spacy skweak"
      ]
    },
    {
      "cell_type": "code",
      "execution_count": 3,
      "id": "T2gXj6-zMXux",
      "metadata": {
        "colab": {
          "base_uri": "https://localhost:8080/"
        },
        "id": "T2gXj6-zMXux",
        "outputId": "22cdf379-0385-4938-b4bb-19ca1becb114"
      },
      "outputs": [
        {
          "name": "stdout",
          "output_type": "stream",
          "text": [
            "Collecting pt-core-news-lg==3.8.0\n",
            "  Downloading https://github.com/explosion/spacy-models/releases/download/pt_core_news_lg-3.8.0/pt_core_news_lg-3.8.0-py3-none-any.whl (568.2 MB)\n",
            "\u001b[2K     \u001b[90m━━━━━━━━━━━━━━━━━━━━━━━━━━━━━━━━━━━━━━━\u001b[0m \u001b[32m568.2/568.2 MB\u001b[0m \u001b[31m1.1 MB/s\u001b[0m eta \u001b[36m0:00:00\u001b[0m\n",
            "\u001b[?25h\u001b[38;5;2m✔ Download and installation successful\u001b[0m\n",
            "You can now load the package via spacy.load('pt_core_news_lg')\n",
            "\u001b[38;5;3m⚠ Restart to reload dependencies\u001b[0m\n",
            "If you are in a Jupyter or Colab notebook, you may need to restart Python in\n",
            "order to load all the package's dependencies. You can do this by selecting the\n",
            "'Restart kernel' or 'Restart runtime' option.\n"
          ]
        }
      ],
      "source": [
        "! python -m spacy download pt_core_news_lg"
      ]
    },
    {
      "cell_type": "code",
      "execution_count": 4,
      "id": "hnDwPyD7M8F5",
      "metadata": {
        "id": "hnDwPyD7M8F5"
      },
      "outputs": [],
      "source": [
        "import pandas as pd\n",
        "import re\n",
        "from tqdm import tqdm\n",
        "\n",
        "import spacy\n",
        "import skweak.heuristics\n",
        "import skweak.aggregation\n",
        "import skweak.generative\n",
        "from spacy.matcher import PhraseMatcher"
      ]
    },
    {
      "cell_type": "code",
      "execution_count": 5,
      "id": "AIExRgvQNHm_",
      "metadata": {
        "id": "AIExRgvQNHm_"
      },
      "outputs": [],
      "source": [
        "nlp = spacy.load(\"pt_core_news_lg\")"
      ]
    },
    {
      "cell_type": "code",
      "execution_count": 6,
      "id": "ppWtEJwKNLRN",
      "metadata": {
        "id": "ppWtEJwKNLRN"
      },
      "outputs": [],
      "source": [
        "df_train = pd.read_parquet('/content/drive/MyDrive/DCAI-NER-weak_supervision/data/train.parquet')\n",
        "df_dev = pd.read_parquet('/content/drive/MyDrive/DCAI-NER-weak_supervision/data/dev.parquet')\n",
        "df_test = pd.read_parquet('/content/drive/MyDrive/DCAI-NER-weak_supervision/data/test.parquet')"
      ]
    },
    {
      "cell_type": "code",
      "execution_count": 7,
      "id": "e9657f68",
      "metadata": {
        "colab": {
          "base_uri": "https://localhost:8080/",
          "height": 143
        },
        "id": "e9657f68",
        "outputId": "c99b9a20-d104-4bae-df2a-feaade2c302d"
      },
      "outputs": [
        {
          "data": {
            "application/vnd.google.colaboratory.intrinsic+json": {
              "summary": "{\n  \"name\": \"df_train\",\n  \"rows\": 1760,\n  \"fields\": [\n    {\n      \"column\": \"sentences\",\n      \"properties\": {\n        \"dtype\": \"string\",\n        \"num_unique_values\": 1760,\n        \"samples\": [\n          \"estes s\\u00e3o exatamente o ano antecedente e o da elei\\u00e7\\u00e3o presidencial de 2010 .\",\n          \"n\\u00e3o apenas os queijos produzidos com leite de vaca se encontram \\u00e0 disposi\\u00e7\\u00e3o nos centros consumidores , mas tamb\\u00e9m queijos de b\\u00fafalas , cabras e ovelhas , nas suas diversas formas : produtos frescos , meia cura , de matura\\u00e7\\u00f5es variadas , de massa mole ou dura , com a casca lavada ou n\\u00e3o .\",\n          \"selecionamos os seguintes dispositivos : a ) artigo 165 , da lei n\\u00ba 9.503 , de 23 de setembro de 1997 ( c\\u00f3digo brasileiro de tr\\u00e2nsito ) , alterada pela lei n\\u00ba 11.705 , de 2008 , que diz : \\u201c art . 165 dirigir sob influ\\u00eancia de \\u00e1lcool ou de qualquer outra subst\\u00e2ncia psicoativa que determine depend\\u00eancia : infra\\u00e7\\u00e3o \\u2013 grav\\u00edssima penalidade \\u2013 multa ( cinco vezes ) e suspens\\u00e3o do direito de dirigir por 12 ( dez ) meses ; medida administrativa \\u2013 reten\\u00e7\\u00e3o do ve\\u00edculo at\\u00e9 a apresenta\\u00e7\\u00e3o de condutor habilitado e recolhimento do documento de habilita\\u00e7\\u00e3o .\"\n        ],\n        \"semantic_type\": \"\",\n        \"description\": \"\"\n      }\n    },\n    {\n      \"column\": \"tokens\",\n      \"properties\": {\n        \"dtype\": \"object\",\n        \"semantic_type\": \"\",\n        \"description\": \"\"\n      }\n    },\n    {\n      \"column\": \"ner_tokens\",\n      \"properties\": {\n        \"dtype\": \"object\",\n        \"semantic_type\": \"\",\n        \"description\": \"\"\n      }\n    }\n  ]\n}",
              "type": "dataframe",
              "variable_name": "df_train"
            },
            "text/html": [
              "\n",
              "  <div id=\"df-58d403bf-f0a5-4d00-b9d4-2263e12600b1\" class=\"colab-df-container\">\n",
              "    <div>\n",
              "<style scoped>\n",
              "    .dataframe tbody tr th:only-of-type {\n",
              "        vertical-align: middle;\n",
              "    }\n",
              "\n",
              "    .dataframe tbody tr th {\n",
              "        vertical-align: top;\n",
              "    }\n",
              "\n",
              "    .dataframe thead th {\n",
              "        text-align: right;\n",
              "    }\n",
              "</style>\n",
              "<table border=\"1\" class=\"dataframe\">\n",
              "  <thead>\n",
              "    <tr style=\"text-align: right;\">\n",
              "      <th></th>\n",
              "      <th>sentences</th>\n",
              "      <th>tokens</th>\n",
              "      <th>ner_tokens</th>\n",
              "    </tr>\n",
              "  </thead>\n",
              "  <tbody>\n",
              "    <tr>\n",
              "      <th>0</th>\n",
              "      <td>sala das sessões , em de de 2019 .</td>\n",
              "      <td>[sala, das, sessões, ,, em, de, de, 2019, .]</td>\n",
              "      <td>[O, O, O, O, O, O, O, O, O]</td>\n",
              "    </tr>\n",
              "    <tr>\n",
              "      <th>1</th>\n",
              "      <td>da decisão de que trata o § 12 deste artigo ca...</td>\n",
              "      <td>[da, decisão, de, que, trata, o, §, 12, deste,...</td>\n",
              "      <td>[O, O, O, O, O, O, O, O, O, O, O, O, O, O, O, ...</td>\n",
              "    </tr>\n",
              "    <tr>\n",
              "      <th>2</th>\n",
              "      <td>projeto de lei n.º , de 2017 ( do sr .</td>\n",
              "      <td>[projeto, de, lei, n.º, ,, de, 2017, (, do, sr...</td>\n",
              "      <td>[O, O, O, O, O, O, O, O, O, O, O]</td>\n",
              "    </tr>\n",
              "  </tbody>\n",
              "</table>\n",
              "</div>\n",
              "    <div class=\"colab-df-buttons\">\n",
              "\n",
              "  <div class=\"colab-df-container\">\n",
              "    <button class=\"colab-df-convert\" onclick=\"convertToInteractive('df-58d403bf-f0a5-4d00-b9d4-2263e12600b1')\"\n",
              "            title=\"Convert this dataframe to an interactive table.\"\n",
              "            style=\"display:none;\">\n",
              "\n",
              "  <svg xmlns=\"http://www.w3.org/2000/svg\" height=\"24px\" viewBox=\"0 -960 960 960\">\n",
              "    <path d=\"M120-120v-720h720v720H120Zm60-500h600v-160H180v160Zm220 220h160v-160H400v160Zm0 220h160v-160H400v160ZM180-400h160v-160H180v160Zm440 0h160v-160H620v160ZM180-180h160v-160H180v160Zm440 0h160v-160H620v160Z\"/>\n",
              "  </svg>\n",
              "    </button>\n",
              "\n",
              "  <style>\n",
              "    .colab-df-container {\n",
              "      display:flex;\n",
              "      gap: 12px;\n",
              "    }\n",
              "\n",
              "    .colab-df-convert {\n",
              "      background-color: #E8F0FE;\n",
              "      border: none;\n",
              "      border-radius: 50%;\n",
              "      cursor: pointer;\n",
              "      display: none;\n",
              "      fill: #1967D2;\n",
              "      height: 32px;\n",
              "      padding: 0 0 0 0;\n",
              "      width: 32px;\n",
              "    }\n",
              "\n",
              "    .colab-df-convert:hover {\n",
              "      background-color: #E2EBFA;\n",
              "      box-shadow: 0px 1px 2px rgba(60, 64, 67, 0.3), 0px 1px 3px 1px rgba(60, 64, 67, 0.15);\n",
              "      fill: #174EA6;\n",
              "    }\n",
              "\n",
              "    .colab-df-buttons div {\n",
              "      margin-bottom: 4px;\n",
              "    }\n",
              "\n",
              "    [theme=dark] .colab-df-convert {\n",
              "      background-color: #3B4455;\n",
              "      fill: #D2E3FC;\n",
              "    }\n",
              "\n",
              "    [theme=dark] .colab-df-convert:hover {\n",
              "      background-color: #434B5C;\n",
              "      box-shadow: 0px 1px 3px 1px rgba(0, 0, 0, 0.15);\n",
              "      filter: drop-shadow(0px 1px 2px rgba(0, 0, 0, 0.3));\n",
              "      fill: #FFFFFF;\n",
              "    }\n",
              "  </style>\n",
              "\n",
              "    <script>\n",
              "      const buttonEl =\n",
              "        document.querySelector('#df-58d403bf-f0a5-4d00-b9d4-2263e12600b1 button.colab-df-convert');\n",
              "      buttonEl.style.display =\n",
              "        google.colab.kernel.accessAllowed ? 'block' : 'none';\n",
              "\n",
              "      async function convertToInteractive(key) {\n",
              "        const element = document.querySelector('#df-58d403bf-f0a5-4d00-b9d4-2263e12600b1');\n",
              "        const dataTable =\n",
              "          await google.colab.kernel.invokeFunction('convertToInteractive',\n",
              "                                                    [key], {});\n",
              "        if (!dataTable) return;\n",
              "\n",
              "        const docLinkHtml = 'Like what you see? Visit the ' +\n",
              "          '<a target=\"_blank\" href=https://colab.research.google.com/notebooks/data_table.ipynb>data table notebook</a>'\n",
              "          + ' to learn more about interactive tables.';\n",
              "        element.innerHTML = '';\n",
              "        dataTable['output_type'] = 'display_data';\n",
              "        await google.colab.output.renderOutput(dataTable, element);\n",
              "        const docLink = document.createElement('div');\n",
              "        docLink.innerHTML = docLinkHtml;\n",
              "        element.appendChild(docLink);\n",
              "      }\n",
              "    </script>\n",
              "  </div>\n",
              "\n",
              "\n",
              "    <div id=\"df-43c36064-f079-497f-a2de-83ad5ae1f9f0\">\n",
              "      <button class=\"colab-df-quickchart\" onclick=\"quickchart('df-43c36064-f079-497f-a2de-83ad5ae1f9f0')\"\n",
              "                title=\"Suggest charts\"\n",
              "                style=\"display:none;\">\n",
              "\n",
              "<svg xmlns=\"http://www.w3.org/2000/svg\" height=\"24px\"viewBox=\"0 0 24 24\"\n",
              "     width=\"24px\">\n",
              "    <g>\n",
              "        <path d=\"M19 3H5c-1.1 0-2 .9-2 2v14c0 1.1.9 2 2 2h14c1.1 0 2-.9 2-2V5c0-1.1-.9-2-2-2zM9 17H7v-7h2v7zm4 0h-2V7h2v10zm4 0h-2v-4h2v4z\"/>\n",
              "    </g>\n",
              "</svg>\n",
              "      </button>\n",
              "\n",
              "<style>\n",
              "  .colab-df-quickchart {\n",
              "      --bg-color: #E8F0FE;\n",
              "      --fill-color: #1967D2;\n",
              "      --hover-bg-color: #E2EBFA;\n",
              "      --hover-fill-color: #174EA6;\n",
              "      --disabled-fill-color: #AAA;\n",
              "      --disabled-bg-color: #DDD;\n",
              "  }\n",
              "\n",
              "  [theme=dark] .colab-df-quickchart {\n",
              "      --bg-color: #3B4455;\n",
              "      --fill-color: #D2E3FC;\n",
              "      --hover-bg-color: #434B5C;\n",
              "      --hover-fill-color: #FFFFFF;\n",
              "      --disabled-bg-color: #3B4455;\n",
              "      --disabled-fill-color: #666;\n",
              "  }\n",
              "\n",
              "  .colab-df-quickchart {\n",
              "    background-color: var(--bg-color);\n",
              "    border: none;\n",
              "    border-radius: 50%;\n",
              "    cursor: pointer;\n",
              "    display: none;\n",
              "    fill: var(--fill-color);\n",
              "    height: 32px;\n",
              "    padding: 0;\n",
              "    width: 32px;\n",
              "  }\n",
              "\n",
              "  .colab-df-quickchart:hover {\n",
              "    background-color: var(--hover-bg-color);\n",
              "    box-shadow: 0 1px 2px rgba(60, 64, 67, 0.3), 0 1px 3px 1px rgba(60, 64, 67, 0.15);\n",
              "    fill: var(--button-hover-fill-color);\n",
              "  }\n",
              "\n",
              "  .colab-df-quickchart-complete:disabled,\n",
              "  .colab-df-quickchart-complete:disabled:hover {\n",
              "    background-color: var(--disabled-bg-color);\n",
              "    fill: var(--disabled-fill-color);\n",
              "    box-shadow: none;\n",
              "  }\n",
              "\n",
              "  .colab-df-spinner {\n",
              "    border: 2px solid var(--fill-color);\n",
              "    border-color: transparent;\n",
              "    border-bottom-color: var(--fill-color);\n",
              "    animation:\n",
              "      spin 1s steps(1) infinite;\n",
              "  }\n",
              "\n",
              "  @keyframes spin {\n",
              "    0% {\n",
              "      border-color: transparent;\n",
              "      border-bottom-color: var(--fill-color);\n",
              "      border-left-color: var(--fill-color);\n",
              "    }\n",
              "    20% {\n",
              "      border-color: transparent;\n",
              "      border-left-color: var(--fill-color);\n",
              "      border-top-color: var(--fill-color);\n",
              "    }\n",
              "    30% {\n",
              "      border-color: transparent;\n",
              "      border-left-color: var(--fill-color);\n",
              "      border-top-color: var(--fill-color);\n",
              "      border-right-color: var(--fill-color);\n",
              "    }\n",
              "    40% {\n",
              "      border-color: transparent;\n",
              "      border-right-color: var(--fill-color);\n",
              "      border-top-color: var(--fill-color);\n",
              "    }\n",
              "    60% {\n",
              "      border-color: transparent;\n",
              "      border-right-color: var(--fill-color);\n",
              "    }\n",
              "    80% {\n",
              "      border-color: transparent;\n",
              "      border-right-color: var(--fill-color);\n",
              "      border-bottom-color: var(--fill-color);\n",
              "    }\n",
              "    90% {\n",
              "      border-color: transparent;\n",
              "      border-bottom-color: var(--fill-color);\n",
              "    }\n",
              "  }\n",
              "</style>\n",
              "\n",
              "      <script>\n",
              "        async function quickchart(key) {\n",
              "          const quickchartButtonEl =\n",
              "            document.querySelector('#' + key + ' button');\n",
              "          quickchartButtonEl.disabled = true;  // To prevent multiple clicks.\n",
              "          quickchartButtonEl.classList.add('colab-df-spinner');\n",
              "          try {\n",
              "            const charts = await google.colab.kernel.invokeFunction(\n",
              "                'suggestCharts', [key], {});\n",
              "          } catch (error) {\n",
              "            console.error('Error during call to suggestCharts:', error);\n",
              "          }\n",
              "          quickchartButtonEl.classList.remove('colab-df-spinner');\n",
              "          quickchartButtonEl.classList.add('colab-df-quickchart-complete');\n",
              "        }\n",
              "        (() => {\n",
              "          let quickchartButtonEl =\n",
              "            document.querySelector('#df-43c36064-f079-497f-a2de-83ad5ae1f9f0 button');\n",
              "          quickchartButtonEl.style.display =\n",
              "            google.colab.kernel.accessAllowed ? 'block' : 'none';\n",
              "        })();\n",
              "      </script>\n",
              "    </div>\n",
              "\n",
              "    </div>\n",
              "  </div>\n"
            ],
            "text/plain": [
              "                                           sentences  \\\n",
              "0                 sala das sessões , em de de 2019 .   \n",
              "1  da decisão de que trata o § 12 deste artigo ca...   \n",
              "2             projeto de lei n.º , de 2017 ( do sr .   \n",
              "\n",
              "                                              tokens  \\\n",
              "0       [sala, das, sessões, ,, em, de, de, 2019, .]   \n",
              "1  [da, decisão, de, que, trata, o, §, 12, deste,...   \n",
              "2  [projeto, de, lei, n.º, ,, de, 2017, (, do, sr...   \n",
              "\n",
              "                                          ner_tokens  \n",
              "0                        [O, O, O, O, O, O, O, O, O]  \n",
              "1  [O, O, O, O, O, O, O, O, O, O, O, O, O, O, O, ...  \n",
              "2                  [O, O, O, O, O, O, O, O, O, O, O]  "
            ]
          },
          "execution_count": 7,
          "metadata": {},
          "output_type": "execute_result"
        }
      ],
      "source": [
        "df_train.head(3)"
      ]
    },
    {
      "cell_type": "markdown",
      "id": "9dCkgD8yNpDM",
      "metadata": {
        "id": "9dCkgD8yNpDM"
      },
      "source": [
        "### Processe os textos de cada DataFrame para criar listas de Docs spaCy"
      ]
    },
    {
      "cell_type": "code",
      "execution_count": 8,
      "id": "UUygjWDNNSjK",
      "metadata": {
        "colab": {
          "base_uri": "https://localhost:8080/"
        },
        "id": "UUygjWDNNSjK",
        "outputId": "ee9af011-8a3a-4b37-b70d-7ad79d6feb35"
      },
      "outputs": [
        {
          "name": "stderr",
          "output_type": "stream",
          "text": [
            "100%|██████████| 1760/1760 [00:09<00:00, 194.04it/s]\n",
            "100%|██████████| 140/140 [00:00<00:00, 144.05it/s]\n",
            "100%|██████████| 592/592 [00:04<00:00, 147.99it/s]\n"
          ]
        }
      ],
      "source": [
        "docs_train = list(tqdm(nlp.pipe(df_train['sentences'].astype(str)), total=len(df_train)))\n",
        "docs_dev = list(tqdm(nlp.pipe(df_dev['sentences'].astype(str)), total=len(df_dev)))\n",
        "docs_test = list(tqdm(nlp.pipe(df_test['sentences'].astype(str)), total=len(df_test)))"
      ]
    },
    {
      "cell_type": "code",
      "execution_count": 9,
      "id": "5f9ab5f2",
      "metadata": {
        "colab": {
          "base_uri": "https://localhost:8080/"
        },
        "id": "5f9ab5f2",
        "outputId": "647d448b-6ffa-4313-e034-319bbf765cbe"
      },
      "outputs": [
        {
          "name": "stdout",
          "output_type": "stream",
          "text": [
            "acao do deputado joao muller na camara!\n"
          ]
        }
      ],
      "source": [
        "import unicodedata\n",
        "\n",
        "def clean_text(text):\n",
        "    text = unicodedata.normalize('NFKD', text)\n",
        "    text = ''.join([c for c in text if not unicodedata.combining(c)])\n",
        "    text = text.lower()\n",
        "\n",
        "    return text\n",
        "\n",
        "original_text = \"Ação do Deputado João Müller na Câmãrà!\"\n",
        "cleaned_text = clean_text(original_text)\n",
        "print(cleaned_text)"
      ]
    },
    {
      "cell_type": "markdown",
      "id": "8hgunDjwOHcS",
      "metadata": {
        "id": "8hgunDjwOHcS"
      },
      "source": [
        "### Limpando dados"
      ]
    },
    {
      "cell_type": "code",
      "execution_count": 10,
      "id": "1d0d81a7",
      "metadata": {
        "id": "1d0d81a7"
      },
      "outputs": [],
      "source": [
        "df_train.tokens = df_train.tokens.apply(lambda x: [clean_text(token) for token in x])\n",
        "df_train.sentences = df_train.sentences.apply(lambda x: [clean_text(sentence) for sentence in x])\n",
        "df_train.sentences = df_train.sentences.apply(lambda x: ''.join(x))"
      ]
    },
    {
      "cell_type": "code",
      "execution_count": 11,
      "id": "ed46ab95",
      "metadata": {
        "id": "ed46ab95"
      },
      "outputs": [],
      "source": [
        "df_dev.tokens = df_dev.tokens.apply(lambda x: [clean_text(token) for token in x])\n",
        "df_dev.sentences = df_dev.sentences.apply(lambda x: [clean_text(sentence) for sentence in x])\n",
        "df_dev.sentences = df_dev.sentences.apply(lambda x: ''.join(x))"
      ]
    },
    {
      "cell_type": "code",
      "execution_count": 12,
      "id": "28c640a2",
      "metadata": {
        "id": "28c640a2"
      },
      "outputs": [],
      "source": [
        "df_test.tokens = df_test.tokens.apply(lambda x: [clean_text(token) for token in x])\n",
        "df_test.sentences = df_test.sentences.apply(lambda x: [clean_text(sentence) for sentence in x])\n",
        "df_test.sentences = df_test.sentences.apply(lambda x: ''.join(x))"
      ]
    },
    {
      "cell_type": "markdown",
      "id": "OfifMRPEOkPA",
      "metadata": {
        "id": "OfifMRPEOkPA"
      },
      "source": [
        "### Adicionando uma coluna que alinhe os rótulos NER e os tokens"
      ]
    },
    {
      "cell_type": "code",
      "execution_count": 14,
      "id": "dd50a137",
      "metadata": {
        "id": "dd50a137"
      },
      "outputs": [],
      "source": [
        "df_train['tokens_w_ner'] = df_train.apply(lambda r: list(zip(r.tokens, r.ner_tokens)), axis=1)\n",
        "df_dev['tokens_w_ner'] = df_dev.apply(lambda r: list(zip(r.tokens, r.ner_tokens)), axis=1)\n",
        "df_test['tokens_w_ner'] = df_test.apply(lambda r: list(zip(r.tokens, r.ner_tokens)), axis=1)"
      ]
    },
    {
      "cell_type": "markdown",
      "id": "g70urzjMOLgA",
      "metadata": {
        "id": "g70urzjMOLgA"
      },
      "source": [
        "### Processando as sentenças em Docs"
      ]
    },
    {
      "cell_type": "code",
      "execution_count": 13,
      "id": "74bdef35",
      "metadata": {
        "colab": {
          "base_uri": "https://localhost:8080/"
        },
        "id": "74bdef35",
        "outputId": "47a29ca5-31b3-4164-fdba-21fd645c378d"
      },
      "outputs": [
        {
          "name": "stderr",
          "output_type": "stream",
          "text": [
            "100%|██████████| 1760/1760 [00:11<00:00, 149.09it/s]\n",
            "100%|██████████| 140/140 [00:01<00:00, 139.33it/s]\n",
            "100%|██████████| 592/592 [00:04<00:00, 125.03it/s]\n"
          ]
        }
      ],
      "source": [
        "docs_train = list(tqdm(nlp.pipe(df_train['sentences'].astype(str)), total=len(df_train)))\n",
        "docs_dev = list(tqdm(nlp.pipe(df_dev['sentences'].astype(str)), total=len(df_dev)))\n",
        "docs_test = list(tqdm(nlp.pipe(df_test['sentences'].astype(str)), total=len(df_test)))"
      ]
    },
    {
      "cell_type": "code",
      "execution_count": 14,
      "id": "53358416",
      "metadata": {
        "id": "53358416"
      },
      "outputs": [],
      "source": [
        "'''\n",
        "spacy_docs_train = nlp_sm.pipe(df_train.sentences.values)\n",
        "skweak.utils.docbin_writer(spacy_docs_train, \"./spacy/spacy_pt_core_news_sm_docs_train.bin\")\n",
        "\n",
        "spacy_docs_dev = nlp_sm.pipe(df_dev.sentences.values)\n",
        "skweak.utils.docbin_writer(spacy_docs_dev, \"./spacy/spacy_pt_core_news_sm_docs_dev.bin\")\n",
        "\n",
        "spacy_docs_test = nlp_sm.pipe(df_test.sentences.values)\n",
        "skweak.utils.docbin_writer(spacy_docs_test, \"./spacy/spacy_pt_core_news_sm_docs_test.bin\")\n",
        "''';"
      ]
    },
    {
      "cell_type": "markdown",
      "id": "5b82df98",
      "metadata": {
        "id": "5b82df98"
      },
      "source": [
        "### Carregando os dados para ter um dicionário de nomes\n"
      ]
    },
    {
      "cell_type": "code",
      "execution_count": 15,
      "id": "893c7f78",
      "metadata": {
        "id": "893c7f78"
      },
      "outputs": [],
      "source": [
        "df_names = pd.read_csv('/content/drive/MyDrive/DCAI-NER-weak_supervision/data/nomes.csv')"
      ]
    },
    {
      "cell_type": "code",
      "execution_count": 16,
      "id": "283816ce",
      "metadata": {
        "colab": {
          "base_uri": "https://localhost:8080/"
        },
        "id": "283816ce",
        "outputId": "e3fba583-cea2-4541-9c12-a019c3eb30d3"
      },
      "outputs": [
        {
          "data": {
            "text/plain": [
              "['abdenor', 'abdias', 'abdias', 'abel', 'abi']"
            ]
          },
          "execution_count": 16,
          "metadata": {},
          "output_type": "execute_result"
        }
      ],
      "source": [
        "fst_names = df_names.nome.to_list()\n",
        "fst_names[:5]"
      ]
    },
    {
      "cell_type": "code",
      "execution_count": 17,
      "id": "f59710df",
      "metadata": {
        "colab": {
          "base_uri": "https://localhost:8080/"
        },
        "id": "f59710df",
        "outputId": "3090ee1c-fb32-4e01-bd6b-66503ef9ed61"
      },
      "outputs": [
        {
          "data": {
            "text/plain": [
              "['aleffe', 'alyne', 'iracy', 'bias', 'torsello']"
            ]
          },
          "execution_count": 17,
          "metadata": {},
          "output_type": "execute_result"
        }
      ],
      "source": [
        "df_names.sobrenome = df_names.sobrenome.astype(str)\n",
        "snd_names = df_names.sobrenome.to_list()\n",
        "snd_names = (' ').join(snd_names).split(' ')\n",
        "snd_names = [x for x in snd_names if x not in ['da', 'de', 'do', 'das', 'dos', 'e', 'o', 'a', 'as', 'os']]\n",
        "snd_names = list(set(snd_names))\n",
        "snd_names = [x for x in snd_names if len(x) > 1]\n",
        "snd_names[:5]"
      ]
    },
    {
      "cell_type": "code",
      "execution_count": 18,
      "id": "3fcb8974",
      "metadata": {
        "colab": {
          "base_uri": "https://localhost:8080/"
        },
        "id": "3fcb8974",
        "outputId": "eb0893b9-75c8-44fe-8199-210207e15802"
      },
      "outputs": [
        {
          "data": {
            "text/plain": [
              "['etaniel', 'karioláine', 'diosleicy', 'inireide', 'aleffe']"
            ]
          },
          "execution_count": 18,
          "metadata": {},
          "output_type": "execute_result"
        }
      ],
      "source": [
        "people_names = fst_names + snd_names\n",
        "people_names = list(set(people_names))\n",
        "people_names[:5]"
      ]
    },
    {
      "cell_type": "code",
      "execution_count": 19,
      "id": "0653b2b3",
      "metadata": {
        "colab": {
          "base_uri": "https://localhost:8080/"
        },
        "id": "0653b2b3",
        "outputId": "7629e719-1bb9-40ca-be13-b2a4b0bd0b2f"
      },
      "outputs": [
        {
          "data": {
            "text/plain": [
              "['etaniel', 'kariolaine', 'diosleicy', 'inireide', 'aleffe']"
            ]
          },
          "execution_count": 19,
          "metadata": {},
          "output_type": "execute_result"
        }
      ],
      "source": [
        "people_names = [clean_text(str(name)) for name in people_names]\n",
        "people_names[:5]"
      ]
    },
    {
      "cell_type": "markdown",
      "id": "412975da",
      "metadata": {
        "id": "412975da"
      },
      "source": [
        "### Criando label functions"
      ]
    },
    {
      "cell_type": "code",
      "execution_count": 20,
      "id": "o3fe8HsPAT7m",
      "metadata": {
        "id": "o3fe8HsPAT7m"
      },
      "outputs": [],
      "source": [
        "name_matcher = PhraseMatcher(nlp.vocab, attr='LOWER')\n",
        "patterns = [nlp.make_doc(name) for name in people_names]\n",
        "name_matcher.add(\"PEOPLE_NAMES\", patterns)"
      ]
    },
    {
      "cell_type": "code",
      "execution_count": 21,
      "id": "KBayftVwAbUT",
      "metadata": {
        "id": "KBayftVwAbUT"
      },
      "outputs": [],
      "source": [
        "def f_dictionary_names(doc):\n",
        "    for _, start, end in name_matcher(doc):\n",
        "        yield start, end, \"PESSOA\"\n",
        "\n",
        "def f_propn_simple(doc):\n",
        "    for token in doc:\n",
        "        if token.pos_ == \"PROPN\" and token.is_title:\n",
        "            yield token.i, token.i + 1, \"PESSOA\"\n",
        "\n",
        "def f_spacy_model(doc):\n",
        "    for ent in doc.ents:\n",
        "        if ent.label_ == \"PER\":\n",
        "            yield ent.start, ent.end, \"PESSOA\"\n",
        "\n",
        "lf1_annotator = skweak.heuristics.FunctionAnnotator(\"lf_dictionary_names\", f_dictionary_names)\n",
        "lf2_annotator = skweak.heuristics.FunctionAnnotator(\"lf_propn_simple\", f_propn_simple)\n",
        "lf3_annotator = skweak.heuristics.FunctionAnnotator(\"lf_spacy_model\", f_spacy_model)\n",
        "\n",
        "annotators = [lf1_annotator, lf2_annotator, lf3_annotator]"
      ]
    },
    {
      "cell_type": "markdown",
      "id": "HRdO0EkuPVrN",
      "metadata": {
        "id": "HRdO0EkuPVrN"
      },
      "source": [
        "### Aplicando as label functions"
      ]
    },
    {
      "cell_type": "code",
      "execution_count": 23,
      "id": "BG8EyJMEBdts",
      "metadata": {
        "id": "BG8EyJMEBdts"
      },
      "outputs": [],
      "source": [
        "docs_train_annotated = docs_train.copy()\n",
        "docs_dev_annotated = docs_dev.copy()\n",
        "docs_test_annotated = docs_test.copy()\n",
        "\n",
        "for annotator in annotators:\n",
        "    docs_train_annotated = list(annotator.pipe(docs_train_annotated))\n",
        "    docs_dev_annotated = list(annotator.pipe(docs_dev_annotated))\n",
        "    docs_test_annotated = list(annotator.pipe(docs_test_annotated))"
      ]
    },
    {
      "cell_type": "markdown",
      "id": "wl9qkDFlPouq",
      "metadata": {
        "id": "wl9qkDFlPouq"
      },
      "source": [
        "### Treinando e aplicando o modelo HMM"
      ]
    },
    {
      "cell_type": "code",
      "execution_count": 24,
      "id": "E5QWReByPzx8",
      "metadata": {
        "colab": {
          "base_uri": "https://localhost:8080/"
        },
        "id": "E5QWReByPzx8",
        "outputId": "83cdf9ed-1e00-42d9-e81e-6d680d9b7838"
      },
      "outputs": [
        {
          "name": "stdout",
          "output_type": "stream",
          "text": [
            "Starting iteration 1\n",
            "Number of processed documents: 1000\n",
            "Finished E-step with 1704 documents\n",
            "Starting iteration 2\n"
          ]
        },
        {
          "name": "stderr",
          "output_type": "stream",
          "text": [
            "         1  -40385.85959207             +nan\n"
          ]
        },
        {
          "name": "stdout",
          "output_type": "stream",
          "text": [
            "Number of processed documents: 1000\n",
            "Finished E-step with 1704 documents\n",
            "Starting iteration 3\n"
          ]
        },
        {
          "name": "stderr",
          "output_type": "stream",
          "text": [
            "         2  -38084.62019371   +2301.23939836\n"
          ]
        },
        {
          "name": "stdout",
          "output_type": "stream",
          "text": [
            "Number of processed documents: 1000\n",
            "Finished E-step with 1704 documents\n",
            "Starting iteration 4\n"
          ]
        },
        {
          "name": "stderr",
          "output_type": "stream",
          "text": [
            "         3  -37567.18756351    +517.43263021\n"
          ]
        },
        {
          "name": "stdout",
          "output_type": "stream",
          "text": [
            "Number of processed documents: 1000\n",
            "Finished E-step with 1704 documents\n"
          ]
        },
        {
          "name": "stderr",
          "output_type": "stream",
          "text": [
            "         4  -37448.21529329    +118.97227021\n"
          ]
        }
      ],
      "source": [
        "hmm_model = skweak.generative.HMM(\"hmm\", labels=[\"PESSOA\"])\n",
        "hmm_model.fit(docs_train_annotated)"
      ]
    },
    {
      "cell_type": "code",
      "execution_count": 25,
      "id": "6vHHRWLlFV_s",
      "metadata": {
        "id": "6vHHRWLlFV_s"
      },
      "outputs": [],
      "source": [
        "docs_train_hmm = list(hmm_model.pipe(docs_train_annotated))\n",
        "docs_dev_hmm = list(hmm_model.pipe(docs_dev_annotated))\n",
        "docs_test_hmm = list(hmm_model.pipe(docs_test_annotated))"
      ]
    },
    {
      "cell_type": "code",
      "execution_count": 34,
      "id": "wjHXj76nITgo",
      "metadata": {
        "colab": {
          "base_uri": "https://localhost:8080/",
          "height": 52
        },
        "id": "wjHXj76nITgo",
        "outputId": "bde53f03-7660-4691-dbed-ffe27a0fcf01"
      },
      "outputs": [
        {
          "data": {
            "text/html": [
              "<span class=\"tex2jax_ignore\"><div class=\"entities\" style=\"line-height: 2.5; direction: ltr\">\n",
              "<mark class=\"entity\" style=\"background: #ddd; padding: 0.45em 0.6em; margin: 0 0.25em; line-height: 1; border-radius: 0.35em;\">\n",
              "    sala\n",
              "    <span style=\"font-size: 0.8em; font-weight: bold; line-height: 1; border-radius: 0.35em; vertical-align: middle; margin-left: 0.5rem\">PESSOA</span>\n",
              "</mark>\n",
              " das sessoes , em \n",
              "<mark class=\"entity\" style=\"background: #ddd; padding: 0.45em 0.6em; margin: 0 0.25em; line-height: 1; border-radius: 0.35em;\">\n",
              "    de\n",
              "    <span style=\"font-size: 0.8em; font-weight: bold; line-height: 1; border-radius: 0.35em; vertical-align: middle; margin-left: 0.5rem\">PESSOA</span>\n",
              "</mark>\n",
              " \n",
              "<mark class=\"entity\" style=\"background: #ddd; padding: 0.45em 0.6em; margin: 0 0.25em; line-height: 1; border-radius: 0.35em;\">\n",
              "    de\n",
              "    <span style=\"font-size: 0.8em; font-weight: bold; line-height: 1; border-radius: 0.35em; vertical-align: middle; margin-left: 0.5rem\">PESSOA</span>\n",
              "</mark>\n",
              " 2019 .</div></span>"
            ],
            "text/plain": [
              "<IPython.core.display.HTML object>"
            ]
          },
          "metadata": {},
          "output_type": "display_data"
        }
      ],
      "source": [
        "from spacy import displacy\n",
        "\n",
        "doc_exemplo = docs_train_hmm[0]\n",
        "fonte_a_visualizar = \"hmm\"\n",
        "\n",
        "doc_para_visualizar = doc_exemplo.copy()\n",
        "doc_para_visualizar.ents = doc_para_visualizar.spans[fonte_a_visualizar]\n",
        "\n",
        "displacy.render(doc_para_visualizar, style=\"ent\", jupyter=True)"
      ]
    },
    {
      "cell_type": "code",
      "execution_count": 41,
      "id": "EaFpXx6nRdyT",
      "metadata": {
        "id": "EaFpXx6nRdyT"
      },
      "outputs": [],
      "source": [
        "from spacy.training import Example\n",
        "\n",
        "def create_list_of_samples(docs, span_key):\n",
        "    exemplos = []\n",
        "    for doc in docs:\n",
        "        doc_referencia = doc.copy()\n",
        "        spans = doc.spans.get(span_key, [])\n",
        "        anotacoes = {\"entities\": [(s.start_char, s.end_char, s.label_) for s in spans]}\n",
        "\n",
        "        exemplo = Example.from_dict(doc_referencia, anotacoes)\n",
        "        exemplos.append(exemplo)\n",
        "\n",
        "    return exemplos\n",
        "\n",
        "train_examples = create_list_of_samples(docs_train_hmm, \"hmm\")\n",
        "dev_examples = create_list_of_samples(docs_dev_hmm, \"hmm\")"
      ]
    },
    {
      "cell_type": "code",
      "execution_count": 42,
      "id": "MhhFeRPOT_h5",
      "metadata": {
        "colab": {
          "base_uri": "https://localhost:8080/"
        },
        "id": "MhhFeRPOT_h5",
        "outputId": "5d9a8770-c70d-4574-d296-c1cd8ef11d42"
      },
      "outputs": [
        {
          "data": {
            "text/plain": [
              "1"
            ]
          },
          "execution_count": 42,
          "metadata": {},
          "output_type": "execute_result"
        }
      ],
      "source": [
        "import spacy\n",
        "\n",
        "nlp = spacy.blank(\"pt\")\n",
        "ner = nlp.add_pipe(\"ner\")\n",
        "ner.add_label(\"PESSOA\")"
      ]
    },
    {
      "cell_type": "code",
      "execution_count": 43,
      "id": "uoZ0daUEUB3b",
      "metadata": {
        "colab": {
          "base_uri": "https://localhost:8080/",
          "height": 408
        },
        "id": "uoZ0daUEUB3b",
        "outputId": "47948b4f-6f95-4485-9143-7297485c1898"
      },
      "outputs": [
        {
          "name": "stdout",
          "output_type": "stream",
          "text": [
            "Época 1/10, Perdas: {'ner': np.float32(8141.7734)}\n",
            "Época 2/10, Perdas: {'ner': np.float32(1954.4944)}\n",
            "Época 3/10, Perdas: {'ner': np.float32(1297.6627)}\n"
          ]
        },
        {
          "ename": "KeyboardInterrupt",
          "evalue": "",
          "output_type": "error",
          "traceback": [
            "\u001b[0;31m---------------------------------------------------------------------------\u001b[0m",
            "\u001b[0;31mKeyboardInterrupt\u001b[0m                         Traceback (most recent call last)",
            "\u001b[0;32m/tmp/ipython-input-43-1473769178.py\u001b[0m in \u001b[0;36m<cell line: 0>\u001b[0;34m()\u001b[0m\n\u001b[1;32m     14\u001b[0m \u001b[0;34m\u001b[0m\u001b[0m\n\u001b[1;32m     15\u001b[0m     \u001b[0;32mfor\u001b[0m \u001b[0mbatch\u001b[0m \u001b[0;32min\u001b[0m \u001b[0mminibatch\u001b[0m\u001b[0;34m(\u001b[0m\u001b[0mtrain_examples\u001b[0m\u001b[0;34m,\u001b[0m \u001b[0msize\u001b[0m\u001b[0;34m=\u001b[0m\u001b[0;36m8\u001b[0m\u001b[0;34m)\u001b[0m\u001b[0;34m:\u001b[0m\u001b[0;34m\u001b[0m\u001b[0;34m\u001b[0m\u001b[0m\n\u001b[0;32m---> 16\u001b[0;31m         \u001b[0mnlp\u001b[0m\u001b[0;34m.\u001b[0m\u001b[0mupdate\u001b[0m\u001b[0;34m(\u001b[0m\u001b[0mbatch\u001b[0m\u001b[0;34m,\u001b[0m \u001b[0mdrop\u001b[0m\u001b[0;34m=\u001b[0m\u001b[0mDROPOUT\u001b[0m\u001b[0;34m,\u001b[0m \u001b[0mlosses\u001b[0m\u001b[0;34m=\u001b[0m\u001b[0mlosses\u001b[0m\u001b[0;34m,\u001b[0m \u001b[0msgd\u001b[0m\u001b[0;34m=\u001b[0m\u001b[0moptimizer\u001b[0m\u001b[0;34m)\u001b[0m\u001b[0;34m\u001b[0m\u001b[0;34m\u001b[0m\u001b[0m\n\u001b[0m\u001b[1;32m     17\u001b[0m \u001b[0;34m\u001b[0m\u001b[0m\n\u001b[1;32m     18\u001b[0m     \u001b[0mprint\u001b[0m\u001b[0;34m(\u001b[0m\u001b[0;34mf\"Época {i+1}/{N_ITER}, Perdas: {losses}\"\u001b[0m\u001b[0;34m)\u001b[0m\u001b[0;34m\u001b[0m\u001b[0;34m\u001b[0m\u001b[0m\n",
            "\u001b[0;32m/usr/local/lib/python3.11/dist-packages/spacy/language.py\u001b[0m in \u001b[0;36mupdate\u001b[0;34m(self, examples, _, drop, sgd, losses, component_cfg, exclude, annotates)\u001b[0m\n\u001b[1;32m   1195\u001b[0m             \u001b[0;31m# ignore statements are used here because mypy ignores hasattr\u001b[0m\u001b[0;34m\u001b[0m\u001b[0;34m\u001b[0m\u001b[0m\n\u001b[1;32m   1196\u001b[0m             \u001b[0;32mif\u001b[0m \u001b[0mname\u001b[0m \u001b[0;32mnot\u001b[0m \u001b[0;32min\u001b[0m \u001b[0mexclude\u001b[0m \u001b[0;32mand\u001b[0m \u001b[0mhasattr\u001b[0m\u001b[0;34m(\u001b[0m\u001b[0mproc\u001b[0m\u001b[0;34m,\u001b[0m \u001b[0;34m\"update\"\u001b[0m\u001b[0;34m)\u001b[0m\u001b[0;34m:\u001b[0m\u001b[0;34m\u001b[0m\u001b[0;34m\u001b[0m\u001b[0m\n\u001b[0;32m-> 1197\u001b[0;31m                 \u001b[0mproc\u001b[0m\u001b[0;34m.\u001b[0m\u001b[0mupdate\u001b[0m\u001b[0;34m(\u001b[0m\u001b[0mexamples\u001b[0m\u001b[0;34m,\u001b[0m \u001b[0msgd\u001b[0m\u001b[0;34m=\u001b[0m\u001b[0;32mNone\u001b[0m\u001b[0;34m,\u001b[0m \u001b[0mlosses\u001b[0m\u001b[0;34m=\u001b[0m\u001b[0mlosses\u001b[0m\u001b[0;34m,\u001b[0m \u001b[0;34m**\u001b[0m\u001b[0mcomponent_cfg\u001b[0m\u001b[0;34m[\u001b[0m\u001b[0mname\u001b[0m\u001b[0;34m]\u001b[0m\u001b[0;34m)\u001b[0m  \u001b[0;31m# type: ignore\u001b[0m\u001b[0;34m\u001b[0m\u001b[0;34m\u001b[0m\u001b[0m\n\u001b[0m\u001b[1;32m   1198\u001b[0m             \u001b[0;32mif\u001b[0m \u001b[0msgd\u001b[0m \u001b[0;32mnot\u001b[0m \u001b[0;32min\u001b[0m \u001b[0;34m(\u001b[0m\u001b[0;32mNone\u001b[0m\u001b[0;34m,\u001b[0m \u001b[0;32mFalse\u001b[0m\u001b[0;34m)\u001b[0m\u001b[0;34m:\u001b[0m\u001b[0;34m\u001b[0m\u001b[0;34m\u001b[0m\u001b[0m\n\u001b[1;32m   1199\u001b[0m                 if (\n",
            "\u001b[0;32m/usr/local/lib/python3.11/dist-packages/spacy/pipeline/transition_parser.pyx\u001b[0m in \u001b[0;36mspacy.pipeline.transition_parser.Parser.update\u001b[0;34m()\u001b[0m\n",
            "\u001b[0;32m/usr/local/lib/python3.11/dist-packages/spacy/ml/parser_model.pyx\u001b[0m in \u001b[0;36mspacy.ml.parser_model.ParserStepModel.finish_steps\u001b[0;34m()\u001b[0m\n",
            "\u001b[0;32m/usr/local/lib/python3.11/dist-packages/spacy/ml/parser_model.pyx\u001b[0m in \u001b[0;36mspacy.ml.parser_model.precompute_hiddens.begin_update.backward\u001b[0;34m()\u001b[0m\n",
            "\u001b[0;32m/usr/local/lib/python3.11/dist-packages/spacy/ml/_precomputable_affine.py\u001b[0m in \u001b[0;36mbackward\u001b[0;34m(dY_ids)\u001b[0m\n\u001b[1;32m     53\u001b[0m         \u001b[0mmodel\u001b[0m\u001b[0;34m.\u001b[0m\u001b[0minc_grad\u001b[0m\u001b[0;34m(\u001b[0m\u001b[0;34m\"pad\"\u001b[0m\u001b[0;34m,\u001b[0m \u001b[0m_backprop_precomputable_affine_padding\u001b[0m\u001b[0;34m(\u001b[0m\u001b[0mmodel\u001b[0m\u001b[0;34m,\u001b[0m \u001b[0mdY\u001b[0m\u001b[0;34m,\u001b[0m \u001b[0mids\u001b[0m\u001b[0;34m)\u001b[0m\u001b[0;34m)\u001b[0m\u001b[0;34m\u001b[0m\u001b[0;34m\u001b[0m\u001b[0m\n\u001b[1;32m     54\u001b[0m         \u001b[0mXf\u001b[0m \u001b[0;34m=\u001b[0m \u001b[0mX\u001b[0m\u001b[0;34m[\u001b[0m\u001b[0mids\u001b[0m\u001b[0;34m]\u001b[0m\u001b[0;34m\u001b[0m\u001b[0;34m\u001b[0m\u001b[0m\n\u001b[0;32m---> 55\u001b[0;31m         \u001b[0mXf\u001b[0m \u001b[0;34m=\u001b[0m \u001b[0mXf\u001b[0m\u001b[0;34m.\u001b[0m\u001b[0mreshape\u001b[0m\u001b[0;34m(\u001b[0m\u001b[0;34m(\u001b[0m\u001b[0mXf\u001b[0m\u001b[0;34m.\u001b[0m\u001b[0mshape\u001b[0m\u001b[0;34m[\u001b[0m\u001b[0;36m0\u001b[0m\u001b[0;34m]\u001b[0m\u001b[0;34m,\u001b[0m \u001b[0mnF\u001b[0m \u001b[0;34m*\u001b[0m \u001b[0mnI\u001b[0m\u001b[0;34m)\u001b[0m\u001b[0;34m)\u001b[0m\u001b[0;34m\u001b[0m\u001b[0;34m\u001b[0m\u001b[0m\n\u001b[0m\u001b[1;32m     56\u001b[0m \u001b[0;34m\u001b[0m\u001b[0m\n\u001b[1;32m     57\u001b[0m         \u001b[0mmodel\u001b[0m\u001b[0;34m.\u001b[0m\u001b[0minc_grad\u001b[0m\u001b[0;34m(\u001b[0m\u001b[0;34m\"b\"\u001b[0m\u001b[0;34m,\u001b[0m \u001b[0mdY\u001b[0m\u001b[0;34m.\u001b[0m\u001b[0msum\u001b[0m\u001b[0;34m(\u001b[0m\u001b[0maxis\u001b[0m\u001b[0;34m=\u001b[0m\u001b[0;36m0\u001b[0m\u001b[0;34m)\u001b[0m\u001b[0;34m)\u001b[0m\u001b[0;34m\u001b[0m\u001b[0;34m\u001b[0m\u001b[0m\n",
            "\u001b[0;31mKeyboardInterrupt\u001b[0m: "
          ]
        }
      ],
      "source": [
        "import random\n",
        "from spacy.training.loop import train\n",
        "from spacy.util import minibatch\n",
        "\n",
        "nlp.initialize(get_examples=lambda: train_examples)\n",
        "N_ITER = 10\n",
        "DROPOUT = 0.5\n",
        "\n",
        "optimizer = nlp.create_optimizer()\n",
        "\n",
        "for i in range(N_ITER):\n",
        "    random.shuffle(train_examples)\n",
        "    losses = {}\n",
        "\n",
        "    for batch in minibatch(train_examples, size=8):\n",
        "        nlp.update(batch, drop=DROPOUT, losses=losses, sgd=optimizer)\n",
        "\n",
        "    print(f\"Época {i+1}/{N_ITER}, Perdas: {losses}\")\n",
        "print(\"Treinamento concluído!\")"
      ]
    },
    {
      "cell_type": "code",
      "execution_count": 44,
      "id": "ZkckVOSTUWcX",
      "metadata": {
        "id": "ZkckVOSTUWcX"
      },
      "outputs": [],
      "source": [
        "model_path = \"./path_scpacy_model\"\n",
        "nlp.to_disk(model_path)"
      ]
    },
    {
      "cell_type": "code",
      "execution_count": 52,
      "id": "sEM9-H8TXzVg",
      "metadata": {
        "colab": {
          "base_uri": "https://localhost:8080/",
          "height": 597
        },
        "id": "sEM9-H8TXzVg",
        "outputId": "005d7056-3965-444b-801d-ca4668d31e51"
      },
      "outputs": [
        {
          "data": {
            "application/vnd.google.colaboratory.intrinsic+json": {
              "summary": "{\n  \"name\": \"df_test\",\n  \"rows\": 592,\n  \"fields\": [\n    {\n      \"column\": \"sentences\",\n      \"properties\": {\n        \"dtype\": \"string\",\n        \"num_unique_values\": 592,\n        \"samples\": [\n          \"camara dos deputados justificacao a tecnologia tem aprimorado cada vez mais os recursos de comunicacao e isso nao escapa a sinalizacao de transito , para a mais precisa informacao dos usuarios , condutores e pedestres .\",\n          \"cabe destacar que este e um projeto com sustentabilidade , ou melhor , nao onera os cofres publicos , nao ocasiona aumento de despesas ou mesmo o implemento de novos / outros custos .\",\n          \"uma forma importante de combater esta exploracao ilegal e predatoria e diminuindo a demanda do mercado por madeira de origem nativa .\"\n        ],\n        \"semantic_type\": \"\",\n        \"description\": \"\"\n      }\n    },\n    {\n      \"column\": \"tokens\",\n      \"properties\": {\n        \"dtype\": \"object\",\n        \"semantic_type\": \"\",\n        \"description\": \"\"\n      }\n    },\n    {\n      \"column\": \"ner_tokens\",\n      \"properties\": {\n        \"dtype\": \"object\",\n        \"semantic_type\": \"\",\n        \"description\": \"\"\n      }\n    },\n    {\n      \"column\": \"tokens_w_ner\",\n      \"properties\": {\n        \"dtype\": \"object\",\n        \"semantic_type\": \"\",\n        \"description\": \"\"\n      }\n    }\n  ]\n}",
              "type": "dataframe",
              "variable_name": "df_test"
            },
            "text/html": [
              "\n",
              "  <div id=\"df-cd7652e5-f44d-45d4-bd60-8877347ce35e\" class=\"colab-df-container\">\n",
              "    <div>\n",
              "<style scoped>\n",
              "    .dataframe tbody tr th:only-of-type {\n",
              "        vertical-align: middle;\n",
              "    }\n",
              "\n",
              "    .dataframe tbody tr th {\n",
              "        vertical-align: top;\n",
              "    }\n",
              "\n",
              "    .dataframe thead th {\n",
              "        text-align: right;\n",
              "    }\n",
              "</style>\n",
              "<table border=\"1\" class=\"dataframe\">\n",
              "  <thead>\n",
              "    <tr style=\"text-align: right;\">\n",
              "      <th></th>\n",
              "      <th>sentences</th>\n",
              "      <th>tokens</th>\n",
              "      <th>ner_tokens</th>\n",
              "      <th>tokens_w_ner</th>\n",
              "    </tr>\n",
              "  </thead>\n",
              "  <tbody>\n",
              "    <tr>\n",
              "      <th>0</th>\n",
              "      <td>cremos que estes avisos , afixados em qualquer...</td>\n",
              "      <td>[cremos, que, estes, avisos, ,, afixados, em, ...</td>\n",
              "      <td>[O, O, O, O, O, O, O, O, O, O, O, O, O, O, O, ...</td>\n",
              "      <td>[(cremos, O), (que, O), (estes, O), (avisos, O...</td>\n",
              "    </tr>\n",
              "    <tr>\n",
              "      <th>1</th>\n",
              "      <td>iracema portella ) dispoe sobre os fundamentos...</td>\n",
              "      <td>[iracema, portella, ), dispoe, sobre, os, fund...</td>\n",
              "      <td>[O, I-PESSOA, O, O, O, O, O, O, O, O, O, O, O,...</td>\n",
              "      <td>[(iracema, O), (portella, I-PESSOA), (), O), (...</td>\n",
              "    </tr>\n",
              "    <tr>\n",
              "      <th>2</th>\n",
              "      <td>deputado hildo rocha</td>\n",
              "      <td>[deputado, hildo, rocha]</td>\n",
              "      <td>[O, O, I-PESSOA]</td>\n",
              "      <td>[(deputado, O), (hildo, O), (rocha, I-PESSOA)]</td>\n",
              "    </tr>\n",
              "    <tr>\n",
              "      <th>3</th>\n",
              "      <td>por um lado , ha o programa escola aberta do g...</td>\n",
              "      <td>[por, um, lado, ,, ha, o, programa, escola, ab...</td>\n",
              "      <td>[O, O, O, O, O, O, O, O, O, O, O, O, O]</td>\n",
              "      <td>[(por, O), (um, O), (lado, O), (,, O), (ha, O)...</td>\n",
              "    </tr>\n",
              "    <tr>\n",
              "      <th>4</th>\n",
              "      <td>esta lei entra em vigor na data de sua publica...</td>\n",
              "      <td>[esta, lei, entra, em, vigor, na, data, de, su...</td>\n",
              "      <td>[O, O, O, O, O, O, O, O, O, O, O]</td>\n",
              "      <td>[(esta, O), (lei, O), (entra, O), (em, O), (vi...</td>\n",
              "    </tr>\n",
              "    <tr>\n",
              "      <th>...</th>\n",
              "      <td>...</td>\n",
              "      <td>...</td>\n",
              "      <td>...</td>\n",
              "      <td>...</td>\n",
              "    </tr>\n",
              "    <tr>\n",
              "      <th>587</th>\n",
              "      <td>cabe destacar que este e um projeto com susten...</td>\n",
              "      <td>[cabe, destacar, que, este, e, um, projeto, co...</td>\n",
              "      <td>[O, O, O, O, O, O, O, O, O, O, O, O, O, O, O, ...</td>\n",
              "      <td>[(cabe, O), (destacar, O), (que, O), (este, O)...</td>\n",
              "    </tr>\n",
              "    <tr>\n",
              "      <th>588</th>\n",
              "      <td>justificacao em grande parte do mundo e tambem...</td>\n",
              "      <td>[justificacao, em, grande, parte, do, mundo, e...</td>\n",
              "      <td>[O, O, O, O, O, O, O, O, O, O, O, O, O, O, O, ...</td>\n",
              "      <td>[(justificacao, O), (em, O), (grande, O), (par...</td>\n",
              "    </tr>\n",
              "    <tr>\n",
              "      <th>589</th>\n",
              "      <td>o reconhecimento da titulacao , por sua vez , ...</td>\n",
              "      <td>[o, reconhecimento, da, titulacao, ,, por, sua...</td>\n",
              "      <td>[O, O, O, O, O, O, O, O, O, O, O, O, O, O, O, ...</td>\n",
              "      <td>[(o, O), (reconhecimento, O), (da, O), (titula...</td>\n",
              "    </tr>\n",
              "    <tr>\n",
              "      <th>590</th>\n",
              "      <td>a proposicao tem como objetivo aprimorar a sis...</td>\n",
              "      <td>[a, proposicao, tem, como, objetivo, aprimorar...</td>\n",
              "      <td>[O, O, O, O, O, O, O, O, O, O, O, O, O, O, O, ...</td>\n",
              "      <td>[(a, O), (proposicao, O), (tem, O), (como, O),...</td>\n",
              "    </tr>\n",
              "    <tr>\n",
              "      <th>591</th>\n",
              "      <td>com o sucesso alcancado , impos a willy novas ...</td>\n",
              "      <td>[com, o, sucesso, alcancado, ,, impos, a, will...</td>\n",
              "      <td>[O, O, O, O, O, O, O, O, O, O, O, O, O, O, O, ...</td>\n",
              "      <td>[(com, O), (o, O), (sucesso, O), (alcancado, O...</td>\n",
              "    </tr>\n",
              "  </tbody>\n",
              "</table>\n",
              "<p>592 rows × 4 columns</p>\n",
              "</div>\n",
              "    <div class=\"colab-df-buttons\">\n",
              "\n",
              "  <div class=\"colab-df-container\">\n",
              "    <button class=\"colab-df-convert\" onclick=\"convertToInteractive('df-cd7652e5-f44d-45d4-bd60-8877347ce35e')\"\n",
              "            title=\"Convert this dataframe to an interactive table.\"\n",
              "            style=\"display:none;\">\n",
              "\n",
              "  <svg xmlns=\"http://www.w3.org/2000/svg\" height=\"24px\" viewBox=\"0 -960 960 960\">\n",
              "    <path d=\"M120-120v-720h720v720H120Zm60-500h600v-160H180v160Zm220 220h160v-160H400v160Zm0 220h160v-160H400v160ZM180-400h160v-160H180v160Zm440 0h160v-160H620v160ZM180-180h160v-160H180v160Zm440 0h160v-160H620v160Z\"/>\n",
              "  </svg>\n",
              "    </button>\n",
              "\n",
              "  <style>\n",
              "    .colab-df-container {\n",
              "      display:flex;\n",
              "      gap: 12px;\n",
              "    }\n",
              "\n",
              "    .colab-df-convert {\n",
              "      background-color: #E8F0FE;\n",
              "      border: none;\n",
              "      border-radius: 50%;\n",
              "      cursor: pointer;\n",
              "      display: none;\n",
              "      fill: #1967D2;\n",
              "      height: 32px;\n",
              "      padding: 0 0 0 0;\n",
              "      width: 32px;\n",
              "    }\n",
              "\n",
              "    .colab-df-convert:hover {\n",
              "      background-color: #E2EBFA;\n",
              "      box-shadow: 0px 1px 2px rgba(60, 64, 67, 0.3), 0px 1px 3px 1px rgba(60, 64, 67, 0.15);\n",
              "      fill: #174EA6;\n",
              "    }\n",
              "\n",
              "    .colab-df-buttons div {\n",
              "      margin-bottom: 4px;\n",
              "    }\n",
              "\n",
              "    [theme=dark] .colab-df-convert {\n",
              "      background-color: #3B4455;\n",
              "      fill: #D2E3FC;\n",
              "    }\n",
              "\n",
              "    [theme=dark] .colab-df-convert:hover {\n",
              "      background-color: #434B5C;\n",
              "      box-shadow: 0px 1px 3px 1px rgba(0, 0, 0, 0.15);\n",
              "      filter: drop-shadow(0px 1px 2px rgba(0, 0, 0, 0.3));\n",
              "      fill: #FFFFFF;\n",
              "    }\n",
              "  </style>\n",
              "\n",
              "    <script>\n",
              "      const buttonEl =\n",
              "        document.querySelector('#df-cd7652e5-f44d-45d4-bd60-8877347ce35e button.colab-df-convert');\n",
              "      buttonEl.style.display =\n",
              "        google.colab.kernel.accessAllowed ? 'block' : 'none';\n",
              "\n",
              "      async function convertToInteractive(key) {\n",
              "        const element = document.querySelector('#df-cd7652e5-f44d-45d4-bd60-8877347ce35e');\n",
              "        const dataTable =\n",
              "          await google.colab.kernel.invokeFunction('convertToInteractive',\n",
              "                                                    [key], {});\n",
              "        if (!dataTable) return;\n",
              "\n",
              "        const docLinkHtml = 'Like what you see? Visit the ' +\n",
              "          '<a target=\"_blank\" href=https://colab.research.google.com/notebooks/data_table.ipynb>data table notebook</a>'\n",
              "          + ' to learn more about interactive tables.';\n",
              "        element.innerHTML = '';\n",
              "        dataTable['output_type'] = 'display_data';\n",
              "        await google.colab.output.renderOutput(dataTable, element);\n",
              "        const docLink = document.createElement('div');\n",
              "        docLink.innerHTML = docLinkHtml;\n",
              "        element.appendChild(docLink);\n",
              "      }\n",
              "    </script>\n",
              "  </div>\n",
              "\n",
              "\n",
              "    <div id=\"df-5e228644-5d9e-4da3-9d0d-763be0d67273\">\n",
              "      <button class=\"colab-df-quickchart\" onclick=\"quickchart('df-5e228644-5d9e-4da3-9d0d-763be0d67273')\"\n",
              "                title=\"Suggest charts\"\n",
              "                style=\"display:none;\">\n",
              "\n",
              "<svg xmlns=\"http://www.w3.org/2000/svg\" height=\"24px\"viewBox=\"0 0 24 24\"\n",
              "     width=\"24px\">\n",
              "    <g>\n",
              "        <path d=\"M19 3H5c-1.1 0-2 .9-2 2v14c0 1.1.9 2 2 2h14c1.1 0 2-.9 2-2V5c0-1.1-.9-2-2-2zM9 17H7v-7h2v7zm4 0h-2V7h2v10zm4 0h-2v-4h2v4z\"/>\n",
              "    </g>\n",
              "</svg>\n",
              "      </button>\n",
              "\n",
              "<style>\n",
              "  .colab-df-quickchart {\n",
              "      --bg-color: #E8F0FE;\n",
              "      --fill-color: #1967D2;\n",
              "      --hover-bg-color: #E2EBFA;\n",
              "      --hover-fill-color: #174EA6;\n",
              "      --disabled-fill-color: #AAA;\n",
              "      --disabled-bg-color: #DDD;\n",
              "  }\n",
              "\n",
              "  [theme=dark] .colab-df-quickchart {\n",
              "      --bg-color: #3B4455;\n",
              "      --fill-color: #D2E3FC;\n",
              "      --hover-bg-color: #434B5C;\n",
              "      --hover-fill-color: #FFFFFF;\n",
              "      --disabled-bg-color: #3B4455;\n",
              "      --disabled-fill-color: #666;\n",
              "  }\n",
              "\n",
              "  .colab-df-quickchart {\n",
              "    background-color: var(--bg-color);\n",
              "    border: none;\n",
              "    border-radius: 50%;\n",
              "    cursor: pointer;\n",
              "    display: none;\n",
              "    fill: var(--fill-color);\n",
              "    height: 32px;\n",
              "    padding: 0;\n",
              "    width: 32px;\n",
              "  }\n",
              "\n",
              "  .colab-df-quickchart:hover {\n",
              "    background-color: var(--hover-bg-color);\n",
              "    box-shadow: 0 1px 2px rgba(60, 64, 67, 0.3), 0 1px 3px 1px rgba(60, 64, 67, 0.15);\n",
              "    fill: var(--button-hover-fill-color);\n",
              "  }\n",
              "\n",
              "  .colab-df-quickchart-complete:disabled,\n",
              "  .colab-df-quickchart-complete:disabled:hover {\n",
              "    background-color: var(--disabled-bg-color);\n",
              "    fill: var(--disabled-fill-color);\n",
              "    box-shadow: none;\n",
              "  }\n",
              "\n",
              "  .colab-df-spinner {\n",
              "    border: 2px solid var(--fill-color);\n",
              "    border-color: transparent;\n",
              "    border-bottom-color: var(--fill-color);\n",
              "    animation:\n",
              "      spin 1s steps(1) infinite;\n",
              "  }\n",
              "\n",
              "  @keyframes spin {\n",
              "    0% {\n",
              "      border-color: transparent;\n",
              "      border-bottom-color: var(--fill-color);\n",
              "      border-left-color: var(--fill-color);\n",
              "    }\n",
              "    20% {\n",
              "      border-color: transparent;\n",
              "      border-left-color: var(--fill-color);\n",
              "      border-top-color: var(--fill-color);\n",
              "    }\n",
              "    30% {\n",
              "      border-color: transparent;\n",
              "      border-left-color: var(--fill-color);\n",
              "      border-top-color: var(--fill-color);\n",
              "      border-right-color: var(--fill-color);\n",
              "    }\n",
              "    40% {\n",
              "      border-color: transparent;\n",
              "      border-right-color: var(--fill-color);\n",
              "      border-top-color: var(--fill-color);\n",
              "    }\n",
              "    60% {\n",
              "      border-color: transparent;\n",
              "      border-right-color: var(--fill-color);\n",
              "    }\n",
              "    80% {\n",
              "      border-color: transparent;\n",
              "      border-right-color: var(--fill-color);\n",
              "      border-bottom-color: var(--fill-color);\n",
              "    }\n",
              "    90% {\n",
              "      border-color: transparent;\n",
              "      border-bottom-color: var(--fill-color);\n",
              "    }\n",
              "  }\n",
              "</style>\n",
              "\n",
              "      <script>\n",
              "        async function quickchart(key) {\n",
              "          const quickchartButtonEl =\n",
              "            document.querySelector('#' + key + ' button');\n",
              "          quickchartButtonEl.disabled = true;  // To prevent multiple clicks.\n",
              "          quickchartButtonEl.classList.add('colab-df-spinner');\n",
              "          try {\n",
              "            const charts = await google.colab.kernel.invokeFunction(\n",
              "                'suggestCharts', [key], {});\n",
              "          } catch (error) {\n",
              "            console.error('Error during call to suggestCharts:', error);\n",
              "          }\n",
              "          quickchartButtonEl.classList.remove('colab-df-spinner');\n",
              "          quickchartButtonEl.classList.add('colab-df-quickchart-complete');\n",
              "        }\n",
              "        (() => {\n",
              "          let quickchartButtonEl =\n",
              "            document.querySelector('#df-5e228644-5d9e-4da3-9d0d-763be0d67273 button');\n",
              "          quickchartButtonEl.style.display =\n",
              "            google.colab.kernel.accessAllowed ? 'block' : 'none';\n",
              "        })();\n",
              "      </script>\n",
              "    </div>\n",
              "\n",
              "  <div id=\"id_118a1d10-ab65-4df4-ba9f-8347183e79f2\">\n",
              "    <style>\n",
              "      .colab-df-generate {\n",
              "        background-color: #E8F0FE;\n",
              "        border: none;\n",
              "        border-radius: 50%;\n",
              "        cursor: pointer;\n",
              "        display: none;\n",
              "        fill: #1967D2;\n",
              "        height: 32px;\n",
              "        padding: 0 0 0 0;\n",
              "        width: 32px;\n",
              "      }\n",
              "\n",
              "      .colab-df-generate:hover {\n",
              "        background-color: #E2EBFA;\n",
              "        box-shadow: 0px 1px 2px rgba(60, 64, 67, 0.3), 0px 1px 3px 1px rgba(60, 64, 67, 0.15);\n",
              "        fill: #174EA6;\n",
              "      }\n",
              "\n",
              "      [theme=dark] .colab-df-generate {\n",
              "        background-color: #3B4455;\n",
              "        fill: #D2E3FC;\n",
              "      }\n",
              "\n",
              "      [theme=dark] .colab-df-generate:hover {\n",
              "        background-color: #434B5C;\n",
              "        box-shadow: 0px 1px 3px 1px rgba(0, 0, 0, 0.15);\n",
              "        filter: drop-shadow(0px 1px 2px rgba(0, 0, 0, 0.3));\n",
              "        fill: #FFFFFF;\n",
              "      }\n",
              "    </style>\n",
              "    <button class=\"colab-df-generate\" onclick=\"generateWithVariable('df_test')\"\n",
              "            title=\"Generate code using this dataframe.\"\n",
              "            style=\"display:none;\">\n",
              "\n",
              "  <svg xmlns=\"http://www.w3.org/2000/svg\" height=\"24px\"viewBox=\"0 0 24 24\"\n",
              "       width=\"24px\">\n",
              "    <path d=\"M7,19H8.4L18.45,9,17,7.55,7,17.6ZM5,21V16.75L18.45,3.32a2,2,0,0,1,2.83,0l1.4,1.43a1.91,1.91,0,0,1,.58,1.4,1.91,1.91,0,0,1-.58,1.4L9.25,21ZM18.45,9,17,7.55Zm-12,3A5.31,5.31,0,0,0,4.9,8.1,5.31,5.31,0,0,0,1,6.5,5.31,5.31,0,0,0,4.9,4.9,5.31,5.31,0,0,0,6.5,1,5.31,5.31,0,0,0,8.1,4.9,5.31,5.31,0,0,0,12,6.5,5.46,5.46,0,0,0,6.5,12Z\"/>\n",
              "  </svg>\n",
              "    </button>\n",
              "    <script>\n",
              "      (() => {\n",
              "      const buttonEl =\n",
              "        document.querySelector('#id_118a1d10-ab65-4df4-ba9f-8347183e79f2 button.colab-df-generate');\n",
              "      buttonEl.style.display =\n",
              "        google.colab.kernel.accessAllowed ? 'block' : 'none';\n",
              "\n",
              "      buttonEl.onclick = () => {\n",
              "        google.colab.notebook.generateWithVariable('df_test');\n",
              "      }\n",
              "      })();\n",
              "    </script>\n",
              "  </div>\n",
              "\n",
              "    </div>\n",
              "  </div>\n"
            ],
            "text/plain": [
              "                                             sentences  \\\n",
              "0    cremos que estes avisos , afixados em qualquer...   \n",
              "1    iracema portella ) dispoe sobre os fundamentos...   \n",
              "2                                 deputado hildo rocha   \n",
              "3    por um lado , ha o programa escola aberta do g...   \n",
              "4    esta lei entra em vigor na data de sua publica...   \n",
              "..                                                 ...   \n",
              "587  cabe destacar que este e um projeto com susten...   \n",
              "588  justificacao em grande parte do mundo e tambem...   \n",
              "589  o reconhecimento da titulacao , por sua vez , ...   \n",
              "590  a proposicao tem como objetivo aprimorar a sis...   \n",
              "591  com o sucesso alcancado , impos a willy novas ...   \n",
              "\n",
              "                                                tokens  \\\n",
              "0    [cremos, que, estes, avisos, ,, afixados, em, ...   \n",
              "1    [iracema, portella, ), dispoe, sobre, os, fund...   \n",
              "2                             [deputado, hildo, rocha]   \n",
              "3    [por, um, lado, ,, ha, o, programa, escola, ab...   \n",
              "4    [esta, lei, entra, em, vigor, na, data, de, su...   \n",
              "..                                                 ...   \n",
              "587  [cabe, destacar, que, este, e, um, projeto, co...   \n",
              "588  [justificacao, em, grande, parte, do, mundo, e...   \n",
              "589  [o, reconhecimento, da, titulacao, ,, por, sua...   \n",
              "590  [a, proposicao, tem, como, objetivo, aprimorar...   \n",
              "591  [com, o, sucesso, alcancado, ,, impos, a, will...   \n",
              "\n",
              "                                            ner_tokens  \\\n",
              "0    [O, O, O, O, O, O, O, O, O, O, O, O, O, O, O, ...   \n",
              "1    [O, I-PESSOA, O, O, O, O, O, O, O, O, O, O, O,...   \n",
              "2                                     [O, O, I-PESSOA]   \n",
              "3              [O, O, O, O, O, O, O, O, O, O, O, O, O]   \n",
              "4                    [O, O, O, O, O, O, O, O, O, O, O]   \n",
              "..                                                 ...   \n",
              "587  [O, O, O, O, O, O, O, O, O, O, O, O, O, O, O, ...   \n",
              "588  [O, O, O, O, O, O, O, O, O, O, O, O, O, O, O, ...   \n",
              "589  [O, O, O, O, O, O, O, O, O, O, O, O, O, O, O, ...   \n",
              "590  [O, O, O, O, O, O, O, O, O, O, O, O, O, O, O, ...   \n",
              "591  [O, O, O, O, O, O, O, O, O, O, O, O, O, O, O, ...   \n",
              "\n",
              "                                          tokens_w_ner  \n",
              "0    [(cremos, O), (que, O), (estes, O), (avisos, O...  \n",
              "1    [(iracema, O), (portella, I-PESSOA), (), O), (...  \n",
              "2       [(deputado, O), (hildo, O), (rocha, I-PESSOA)]  \n",
              "3    [(por, O), (um, O), (lado, O), (,, O), (ha, O)...  \n",
              "4    [(esta, O), (lei, O), (entra, O), (em, O), (vi...  \n",
              "..                                                 ...  \n",
              "587  [(cabe, O), (destacar, O), (que, O), (este, O)...  \n",
              "588  [(justificacao, O), (em, O), (grande, O), (par...  \n",
              "589  [(o, O), (reconhecimento, O), (da, O), (titula...  \n",
              "590  [(a, O), (proposicao, O), (tem, O), (como, O),...  \n",
              "591  [(com, O), (o, O), (sucesso, O), (alcancado, O...  \n",
              "\n",
              "[592 rows x 4 columns]"
            ]
          },
          "execution_count": 52,
          "metadata": {},
          "output_type": "execute_result"
        }
      ],
      "source": [
        "df_test"
      ]
    },
    {
      "cell_type": "code",
      "execution_count": 56,
      "id": "WFVm6GUyWy-z",
      "metadata": {
        "colab": {
          "base_uri": "https://localhost:8080/",
          "height": 402
        },
        "id": "WFVm6GUyWy-z",
        "outputId": "162cf0b9-4340-4fa0-99ee-04b2e6fa05bf"
      },
      "outputs": [
        {
          "ename": "ImportError",
          "evalue": "cannot import name 'biluo_to_ents' from 'spacy.training' (/usr/local/lib/python3.11/dist-packages/spacy/training/__init__.py)",
          "output_type": "error",
          "traceback": [
            "\u001b[0;31m---------------------------------------------------------------------------\u001b[0m",
            "\u001b[0;31mImportError\u001b[0m                               Traceback (most recent call last)",
            "\u001b[0;32m/tmp/ipython-input-56-719673647.py\u001b[0m in \u001b[0;36m<cell line: 0>\u001b[0;34m()\u001b[0m\n\u001b[0;32m----> 1\u001b[0;31m \u001b[0;32mfrom\u001b[0m \u001b[0mspacy\u001b[0m\u001b[0;34m.\u001b[0m\u001b[0mtraining\u001b[0m \u001b[0;32mimport\u001b[0m \u001b[0mbiluo_to_ents\u001b[0m\u001b[0;34m\u001b[0m\u001b[0;34m\u001b[0m\u001b[0m\n\u001b[0m\u001b[1;32m      2\u001b[0m \u001b[0;34m\u001b[0m\u001b[0m\n\u001b[1;32m      3\u001b[0m \u001b[0;32mdef\u001b[0m \u001b[0mcreate_ground_truth_examples_from_tags\u001b[0m\u001b[0;34m(\u001b[0m\u001b[0mdf_real\u001b[0m\u001b[0;34m)\u001b[0m\u001b[0;34m:\u001b[0m\u001b[0;34m\u001b[0m\u001b[0;34m\u001b[0m\u001b[0m\n\u001b[1;32m      4\u001b[0m     \u001b[0mnlp\u001b[0m \u001b[0;34m=\u001b[0m \u001b[0mspacy\u001b[0m\u001b[0;34m.\u001b[0m\u001b[0mload\u001b[0m\u001b[0;34m(\u001b[0m\u001b[0;34m\"pt_core_news_lg\"\u001b[0m\u001b[0;34m)\u001b[0m\u001b[0;34m\u001b[0m\u001b[0;34m\u001b[0m\u001b[0m\n\u001b[1;32m      5\u001b[0m     \u001b[0mexamples\u001b[0m \u001b[0;34m=\u001b[0m \u001b[0;34m[\u001b[0m\u001b[0;34m]\u001b[0m\u001b[0;34m\u001b[0m\u001b[0;34m\u001b[0m\u001b[0m\n",
            "\u001b[0;31mImportError\u001b[0m: cannot import name 'biluo_to_ents' from 'spacy.training' (/usr/local/lib/python3.11/dist-packages/spacy/training/__init__.py)",
            "",
            "\u001b[0;31m---------------------------------------------------------------------------\u001b[0;32m\nNOTE: If your import is failing due to a missing package, you can\nmanually install dependencies using either !pip or !apt.\n\nTo view examples of installing some common dependencies, click the\n\"Open Examples\" button below.\n\u001b[0;31m---------------------------------------------------------------------------\u001b[0m\n"
          ]
        }
      ],
      "source": [
        "def create_ground_truth_examples_from_tags(df_real):\n",
        "    nlp = spacy.load(\"pt_core_news_lg\")\n",
        "    examples = []\n",
        "    for _, row in df_real.iterrows():\n",
        "        tokens = row['tokens']\n",
        "        tags = row['ner_tokens']\n",
        "\n",
        "        doc = nlp.make_doc(\" \".join(tokens))\n",
        "\n",
        "        entities = biluo_to_ents(doc, tags)\n",
        "        doc.ents = entities\n",
        "\n",
        "        example = Example(doc, doc)\n",
        "        examples.append(example)\n",
        "\n",
        "    return examples"
      ]
    },
    {
      "cell_type": "code",
      "execution_count": 65,
      "id": "AHvmAsEjakMk",
      "metadata": {
        "colab": {
          "base_uri": "https://localhost:8080/"
        },
        "id": "AHvmAsEjakMk",
        "outputId": "fa0ff120-83c8-42f3-e86e-1df268fe60a0"
      },
      "outputs": [
        {
          "name": "stdout",
          "output_type": "stream",
          "text": [
            "Trained model loaded from './path_scpacy_model'.\n",
            "Evaluation complete.\n",
            "\n",
            "--- FULLY MANUAL EVALUATION RESULTS ---\n",
            "True Positives (TP): 54\n",
            "False Positives (FP):    2538\n",
            "False Negatives (FN):    74\n",
            "-----------------------------------\n",
            "Precision: 0.0208\n",
            "Recall:    0.4219\n",
            "F1-Score:  0.0397\n"
          ]
        }
      ],
      "source": [
        "import spacy\n",
        "import pandas as pd\n",
        "# No special spaCy training imports are needed now.\n",
        "\n",
        "# --- STEP 1: LOAD YOUR TRAINED MODEL ---\n",
        "model_path = \"./path_scpacy_model\"\n",
        "nlp_trained = spacy.load(model_path)\n",
        "print(f\"Trained model loaded from '{model_path}'.\")\n",
        "\n",
        "\n",
        "# --- STEP 2: OUR NEW MANUAL HELPER FUNCTION ---\n",
        "def bio_tags_to_entity_texts(tokens, tags):\n",
        "    \"\"\"\n",
        "    Manually converts a list of tokens and BIO tags into a set of entity texts.\n",
        "    This function replaces the need for spaCy's 'biluo_to_ents'.\n",
        "    \"\"\"\n",
        "    entities = set()\n",
        "    current_entity_tokens = []\n",
        "\n",
        "    for token, tag in zip(tokens, tags):\n",
        "        if tag == \"I-PESSOA\":\n",
        "            if current_entity_tokens:\n",
        "                entities.add(\" \".join(current_entity_tokens))\n",
        "                current_entity_tokens = []\n",
        "            current_entity_tokens.append(token)\n",
        "        else:\n",
        "            if current_entity_tokens:\n",
        "                entities.add(\" \".join(current_entity_tokens))\n",
        "                current_entity_tokens = []\n",
        "\n",
        "    if current_entity_tokens:\n",
        "        entities.add(\" \".join(current_entity_tokens))\n",
        "\n",
        "    return entities\n",
        "\n",
        "\n",
        "true_positives = 0\n",
        "false_positives = 0\n",
        "false_negatives = 0\n",
        "\n",
        "for row in df_test.itertuples():\n",
        "    sentence_text = row.sentences\n",
        "    true_tokens = row.tokens\n",
        "    true_tags = row.ner_tokens\n",
        "\n",
        "    # --- PREDICTIONS ---\n",
        "    predicted_doc = nlp_trained(sentence_text)\n",
        "    predicted_entities = {ent.text for ent in predicted_doc.ents if ent.label_ == \"PESSOA\"}\n",
        "\n",
        "    # --- GROUND TRUTH entities ---\n",
        "    true_entities = bio_tags_to_entity_texts(true_tokens, true_tags)\n",
        "\n",
        "    # --- TP, FP, FN ---\n",
        "    true_positives += len(predicted_entities.intersection(true_entities))\n",
        "    false_positives += len(predicted_entities.difference(true_entities))\n",
        "    false_negatives += len(true_entities.difference(predicted_entities))\n",
        "\n",
        "print(\"Evaluation complete.\")\n",
        "precision = true_positives / (true_positives + false_positives + 1e-10)\n",
        "recall = true_positives / (true_positives + false_negatives + 1e-10)\n",
        "f1_score = 2 * (precision * recall) / (precision + recall + 1e-10)\n",
        "\n",
        "\n",
        "print(\"\\n--- FULLY MANUAL EVALUATION RESULTS ---\")\n",
        "print(f\"True Positives (TP): {true_positives}\")\n",
        "print(f\"False Positives (FP):    {false_positives}\")\n",
        "print(f\"False Negatives (FN):    {false_negatives}\")\n",
        "print(\"-\" * 35)\n",
        "print(f\"Precision: {precision:.4f}\")\n",
        "print(f\"Recall:    {recall:.4f}\")\n",
        "print(f\"F1-Score:  {f1_score:.4f}\")"
      ]
    }
  ],
  "metadata": {
    "colab": {
      "provenance": []
    },
    "kernelspec": {
      "display_name": "TopProjI",
      "language": "python",
      "name": "python3"
    },
    "language_info": {
      "codemirror_mode": {
        "name": "ipython",
        "version": 3
      },
      "file_extension": ".py",
      "mimetype": "text/x-python",
      "name": "python",
      "nbconvert_exporter": "python",
      "pygments_lexer": "ipython3",
      "version": "3.12.11"
    }
  },
  "nbformat": 4,
  "nbformat_minor": 5
}
