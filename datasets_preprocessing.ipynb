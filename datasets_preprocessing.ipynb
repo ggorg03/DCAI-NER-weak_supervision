{
 "cells": [
  {
   "cell_type": "code",
   "execution_count": 1,
   "id": "9a5cae19",
   "metadata": {},
   "outputs": [],
   "source": [
    "import os"
   ]
  },
  {
   "cell_type": "code",
   "execution_count": 17,
   "id": "ffb11237",
   "metadata": {},
   "outputs": [],
   "source": [
    "data_dir_path = './data'\n",
    "data_files = os.listdir(data_dir_path)\n",
    "data_files = [os.path.join(data_dir_path, f) for f in data_files]\n",
    "data_files = [f for f in data_files if f.endswith('.json')]"
   ]
  },
  {
   "cell_type": "code",
   "execution_count": 18,
   "id": "3e85eb5f",
   "metadata": {},
   "outputs": [
    {
     "data": {
      "text/plain": [
       "['./data/train.json', './data/test.json', './data/dev.json']"
      ]
     },
     "execution_count": 18,
     "metadata": {},
     "output_type": "execute_result"
    }
   ],
   "source": [
    "data_files"
   ]
  },
  {
   "cell_type": "code",
   "execution_count": 26,
   "id": "fa6a0b80",
   "metadata": {},
   "outputs": [],
   "source": [
    "import numpy as np\n",
    "import pandas as pd"
   ]
  },
  {
   "cell_type": "code",
   "execution_count": 25,
   "id": "dbb53b66",
   "metadata": {},
   "outputs": [],
   "source": [
    "train_path = [d for d in data_files if 'train' in d][0]\n",
    "dev_path = [d for d in data_files if 'dev' in d][0]\n",
    "test_path = [d for d in data_files if 'test' in d][0]"
   ]
  },
  {
   "cell_type": "code",
   "execution_count": 81,
   "id": "12971910",
   "metadata": {},
   "outputs": [],
   "source": [
    "train_df = pd.read_json(train_path, lines=False)\n",
    "dev_df = pd.read_json(dev_path, lines=False)\n",
    "test_df = pd.read_json(test_path, lines=False)"
   ]
  },
  {
   "cell_type": "code",
   "execution_count": 88,
   "id": "7d6d57b9",
   "metadata": {},
   "outputs": [],
   "source": [
    "tokens, ners = train_df[['tokens', 'ner_tokens']].sum()\n",
    "\n",
    "tokens = [t for t, n in zip(tokens, ners) if n != 'O']\n",
    "ners = [n for n in ners if n != 'O']\n",
    "\n",
    "df_tn = pd.DataFrame({'tokens': tokens, 'ners': ners})"
   ]
  },
  {
   "cell_type": "code",
   "execution_count": 122,
   "id": "f656b836",
   "metadata": {},
   "outputs": [
    {
     "data": {
      "text/html": [
       "<div>\n",
       "<style scoped>\n",
       "    .dataframe tbody tr th:only-of-type {\n",
       "        vertical-align: middle;\n",
       "    }\n",
       "\n",
       "    .dataframe tbody tr th {\n",
       "        vertical-align: top;\n",
       "    }\n",
       "\n",
       "    .dataframe thead tr th {\n",
       "        text-align: left;\n",
       "    }\n",
       "\n",
       "    .dataframe thead tr:last-of-type th {\n",
       "        text-align: right;\n",
       "    }\n",
       "</style>\n",
       "<table border=\"1\" class=\"dataframe\">\n",
       "  <thead>\n",
       "    <tr>\n",
       "      <th></th>\n",
       "      <th colspan=\"2\" halign=\"left\">tokens</th>\n",
       "    </tr>\n",
       "    <tr>\n",
       "      <th></th>\n",
       "      <th>count</th>\n",
       "      <th>nunique</th>\n",
       "    </tr>\n",
       "    <tr>\n",
       "      <th>ners</th>\n",
       "      <th></th>\n",
       "      <th></th>\n",
       "    </tr>\n",
       "  </thead>\n",
       "  <tbody>\n",
       "    <tr>\n",
       "      <th>B-DATA</th>\n",
       "      <td>259</td>\n",
       "      <td>71</td>\n",
       "    </tr>\n",
       "    <tr>\n",
       "      <th>B-EVENTO</th>\n",
       "      <td>9</td>\n",
       "      <td>7</td>\n",
       "    </tr>\n",
       "    <tr>\n",
       "      <th>B-FUNDAMENTO</th>\n",
       "      <td>418</td>\n",
       "      <td>45</td>\n",
       "    </tr>\n",
       "    <tr>\n",
       "      <th>B-LOCAL</th>\n",
       "      <td>354</td>\n",
       "      <td>163</td>\n",
       "    </tr>\n",
       "    <tr>\n",
       "      <th>B-ORGANIZACAO</th>\n",
       "      <td>373</td>\n",
       "      <td>117</td>\n",
       "    </tr>\n",
       "    <tr>\n",
       "      <th>B-PESSOA</th>\n",
       "      <td>522</td>\n",
       "      <td>209</td>\n",
       "    </tr>\n",
       "    <tr>\n",
       "      <th>B-PRODUTODELEI</th>\n",
       "      <td>193</td>\n",
       "      <td>66</td>\n",
       "    </tr>\n",
       "    <tr>\n",
       "      <th>I-DATA</th>\n",
       "      <td>168</td>\n",
       "      <td>35</td>\n",
       "    </tr>\n",
       "    <tr>\n",
       "      <th>I-EVENTO</th>\n",
       "      <td>16</td>\n",
       "      <td>13</td>\n",
       "    </tr>\n",
       "    <tr>\n",
       "      <th>I-FUNDAMENTO</th>\n",
       "      <td>3535</td>\n",
       "      <td>455</td>\n",
       "    </tr>\n",
       "    <tr>\n",
       "      <th>I-LOCAL</th>\n",
       "      <td>423</td>\n",
       "      <td>160</td>\n",
       "    </tr>\n",
       "    <tr>\n",
       "      <th>I-ORGANIZACAO</th>\n",
       "      <td>793</td>\n",
       "      <td>219</td>\n",
       "    </tr>\n",
       "    <tr>\n",
       "      <th>I-PESSOA</th>\n",
       "      <td>401</td>\n",
       "      <td>188</td>\n",
       "    </tr>\n",
       "    <tr>\n",
       "      <th>I-PRODUTODELEI</th>\n",
       "      <td>724</td>\n",
       "      <td>234</td>\n",
       "    </tr>\n",
       "  </tbody>\n",
       "</table>\n",
       "</div>"
      ],
      "text/plain": [
       "               tokens        \n",
       "                count nunique\n",
       "ners                         \n",
       "B-DATA            259      71\n",
       "B-EVENTO            9       7\n",
       "B-FUNDAMENTO      418      45\n",
       "B-LOCAL           354     163\n",
       "B-ORGANIZACAO     373     117\n",
       "B-PESSOA          522     209\n",
       "B-PRODUTODELEI    193      66\n",
       "I-DATA            168      35\n",
       "I-EVENTO           16      13\n",
       "I-FUNDAMENTO     3535     455\n",
       "I-LOCAL           423     160\n",
       "I-ORGANIZACAO     793     219\n",
       "I-PESSOA          401     188\n",
       "I-PRODUTODELEI    724     234"
      ]
     },
     "execution_count": 122,
     "metadata": {},
     "output_type": "execute_result"
    }
   ],
   "source": [
    "df_tn.groupby('ners').agg(['count', 'nunique'])"
   ]
  }
 ],
 "metadata": {
  "kernelspec": {
   "display_name": "TopProjI",
   "language": "python",
   "name": "python3"
  },
  "language_info": {
   "codemirror_mode": {
    "name": "ipython",
    "version": 3
   },
   "file_extension": ".py",
   "mimetype": "text/x-python",
   "name": "python",
   "nbconvert_exporter": "python",
   "pygments_lexer": "ipython3",
   "version": "3.12.11"
  }
 },
 "nbformat": 4,
 "nbformat_minor": 5
}
