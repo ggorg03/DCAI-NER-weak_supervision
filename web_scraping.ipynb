{
 "cells": [
  {
   "cell_type": "code",
   "execution_count": 19,
   "id": "2223d177",
   "metadata": {},
   "outputs": [],
   "source": [
    "import os\n",
    "import gdown\n",
    "import pandas as pd\n",
    "import requests\n",
    "from bs4 import BeautifulSoup\n",
    "from tqdm import tqdm"
   ]
  },
  {
   "cell_type": "code",
   "execution_count": 3,
   "id": "a36f0957",
   "metadata": {},
   "outputs": [],
   "source": [
    "def get_links_from_url(url) -> dict:\n",
    "  response = requests.get(url)\n",
    "\n",
    "  if response.status_code != 200:\n",
    "      print(f\"Failed to retrieve the webpage. Status code: {response.status_code}\")\n",
    "      return\n",
    "\n",
    "  if response.status_code == 200:\n",
    "      soup = BeautifulSoup(response.text, 'html.parser')\n",
    "      section_datasets = soup.find('section', {'id': 'dataset-resources'})\n",
    "\n",
    "      if section_datasets:\n",
    "          dataset_links = section_datasets.find_all('li', {'class': 'resource-item'})\n",
    "\n",
    "          links = {}\n",
    "          for ancor_el in dataset_links:\n",
    "            content = ancor_el.find('a').get_text().strip()\n",
    "            head, *tail = content.split('-')\n",
    "            head = head.strip()\n",
    "\n",
    "            if head == 'Dicionário de Dados':\n",
    "              pass\n",
    "            else:\n",
    "              ancor_el = ancor_el.find('a', {'class': 'resource-url-analytics'})\n",
    "              link = ancor_el.get('href')\n",
    "              filename = link.split('/')[-1]\n",
    "              links[filename] = link\n",
    "\n",
    "          return links"
   ]
  },
  {
   "cell_type": "code",
   "execution_count": 20,
   "id": "edd1a7ab",
   "metadata": {},
   "outputs": [],
   "source": [
    "def download_files(links, outdir='scraped_data') -> pd.DataFrame:\n",
    "  os.makedirs(outdir, exist_ok=True)\n",
    "\n",
    "  for filename, link in tqdm(links.items(), 'download datasets...'):\n",
    "    file_path = os.path.join(outdir, filename)\n",
    "    gdown.download(url=link, output=file_path, quiet=True, fuzzy=True)\n",
    "\n",
    "  dfs = []\n",
    "  for filename in tqdm(links.keys(), 'concating dataframes'):\n",
    "    file_path = os.path.join(outdir, filename)\n",
    "    df = pd.read_csv(filename, sep=';')\n",
    "    dfs.append(df)\n",
    "\n",
    "  return pd.concat(dfs)"
   ]
  },
  {
   "cell_type": "code",
   "execution_count": 10,
   "id": "578cca68",
   "metadata": {},
   "outputs": [
    {
     "name": "stderr",
     "output_type": "stream",
     "text": [
      "download datasets...: 100%|██████████| 35/35 [00:07<00:00,  4.98it/s]\n",
      "concating dataframes: 100%|██████████| 35/35 [00:01<00:00, 20.29it/s]\n"
     ]
    }
   ],
   "source": [
    "filenames_links = get_links_from_url('https://dados.ufrn.br/dataset/discentes')\n",
    "df_discentes = download_files(filenames_links)"
   ]
  },
  {
   "cell_type": "code",
   "execution_count": 11,
   "id": "97196a8f",
   "metadata": {},
   "outputs": [
    {
     "data": {
      "text/plain": [
       "0                         ABDENOR BEZERRA DOS SANTOS\n",
       "1                    ABDIAS MONTEIRO DE ANDRADE MELO\n",
       "2                      ABDIAS SABINO RODRIGUES FILHO\n",
       "3                       ABEL GOMES DE OLIVEIRA FILHO\n",
       "4                        ABI AMANA DE AQUINO BEZERRA\n",
       "                            ...                     \n",
       "14454                   ZENEIDE LOBATO REIS DA SILVA\n",
       "14455    ZENO AUGUSTO BARROS LOPES TEIXEIRA DE MOURA\n",
       "14456               ZILANE SILVA BARBOSA DE OLIVEIRA\n",
       "14457           ZILDA DALLIANY LISBOA ARRUDA DE MELO\n",
       "14458            ZIRALDO TARGINO BEZERRA GOMES SILVA\n",
       "Name: nome_discente, Length: 375957, dtype: object"
      ]
     },
     "execution_count": 11,
     "metadata": {},
     "output_type": "execute_result"
    }
   ],
   "source": [
    "df_discentes.nome_discente"
   ]
  },
  {
   "cell_type": "code",
   "execution_count": 12,
   "id": "cac1d990",
   "metadata": {},
   "outputs": [
    {
     "data": {
      "text/plain": [
       "0                         abdenor bezerra dos santos\n",
       "1                    abdias monteiro de andrade melo\n",
       "2                      abdias sabino rodrigues filho\n",
       "3                       abel gomes de oliveira filho\n",
       "4                        abi amana de aquino bezerra\n",
       "                            ...                     \n",
       "14454                   zeneide lobato reis da silva\n",
       "14455    zeno augusto barros lopes teixeira de moura\n",
       "14456               zilane silva barbosa de oliveira\n",
       "14457           zilda dalliany lisboa arruda de melo\n",
       "14458            ziraldo targino bezerra gomes silva\n",
       "Name: nome_discente, Length: 375957, dtype: object"
      ]
     },
     "execution_count": 12,
     "metadata": {},
     "output_type": "execute_result"
    }
   ],
   "source": [
    "df_discentes.nome_discente = df_discentes.nome_discente.str.strip()\n",
    "df_discentes = df_discentes[df_discentes.nome_discente != '']\n",
    "df_discentes = df_discentes.nome_discente.str.lower()\n",
    "df_discentes"
   ]
  },
  {
   "cell_type": "code",
   "execution_count": 14,
   "id": "77253727",
   "metadata": {},
   "outputs": [],
   "source": [
    "nomes = df_discentes.apply(lambda x: x.split(' ')[0])"
   ]
  },
  {
   "cell_type": "code",
   "execution_count": 15,
   "id": "f6528407",
   "metadata": {},
   "outputs": [],
   "source": [
    "sobrenomes = df_discentes.apply(lambda x: ' '.join(x.split(' ')[1:]))"
   ]
  },
  {
   "cell_type": "code",
   "execution_count": 16,
   "id": "69e436eb",
   "metadata": {},
   "outputs": [
    {
     "data": {
      "text/html": [
       "<div>\n",
       "<style scoped>\n",
       "    .dataframe tbody tr th:only-of-type {\n",
       "        vertical-align: middle;\n",
       "    }\n",
       "\n",
       "    .dataframe tbody tr th {\n",
       "        vertical-align: top;\n",
       "    }\n",
       "\n",
       "    .dataframe thead th {\n",
       "        text-align: right;\n",
       "    }\n",
       "</style>\n",
       "<table border=\"1\" class=\"dataframe\">\n",
       "  <thead>\n",
       "    <tr style=\"text-align: right;\">\n",
       "      <th></th>\n",
       "      <th>nome</th>\n",
       "      <th>sobrenome</th>\n",
       "    </tr>\n",
       "  </thead>\n",
       "  <tbody>\n",
       "    <tr>\n",
       "      <th>0</th>\n",
       "      <td>abdenor</td>\n",
       "      <td>bezerra dos santos</td>\n",
       "    </tr>\n",
       "    <tr>\n",
       "      <th>1</th>\n",
       "      <td>abdias</td>\n",
       "      <td>monteiro de andrade melo</td>\n",
       "    </tr>\n",
       "    <tr>\n",
       "      <th>2</th>\n",
       "      <td>abdias</td>\n",
       "      <td>sabino rodrigues filho</td>\n",
       "    </tr>\n",
       "    <tr>\n",
       "      <th>3</th>\n",
       "      <td>abel</td>\n",
       "      <td>gomes de oliveira filho</td>\n",
       "    </tr>\n",
       "    <tr>\n",
       "      <th>4</th>\n",
       "      <td>abi</td>\n",
       "      <td>amana de aquino bezerra</td>\n",
       "    </tr>\n",
       "    <tr>\n",
       "      <th>5</th>\n",
       "      <td>abigail</td>\n",
       "      <td>gabrielli dantas rodrigues albuquerque</td>\n",
       "    </tr>\n",
       "    <tr>\n",
       "      <th>6</th>\n",
       "      <td>abigail</td>\n",
       "      <td>keyla de santana</td>\n",
       "    </tr>\n",
       "    <tr>\n",
       "      <th>7</th>\n",
       "      <td>abigail</td>\n",
       "      <td>sara paloma silva damasceno</td>\n",
       "    </tr>\n",
       "    <tr>\n",
       "      <th>8</th>\n",
       "      <td>abimael</td>\n",
       "      <td>elohim lima de assuncao</td>\n",
       "    </tr>\n",
       "    <tr>\n",
       "      <th>9</th>\n",
       "      <td>abimael</td>\n",
       "      <td>esdras carvalho de moura lira</td>\n",
       "    </tr>\n",
       "  </tbody>\n",
       "</table>\n",
       "</div>"
      ],
      "text/plain": [
       "      nome                               sobrenome\n",
       "0  abdenor                      bezerra dos santos\n",
       "1   abdias                monteiro de andrade melo\n",
       "2   abdias                  sabino rodrigues filho\n",
       "3     abel                 gomes de oliveira filho\n",
       "4      abi                 amana de aquino bezerra\n",
       "5  abigail  gabrielli dantas rodrigues albuquerque\n",
       "6  abigail                        keyla de santana\n",
       "7  abigail             sara paloma silva damasceno\n",
       "8  abimael                 elohim lima de assuncao\n",
       "9  abimael           esdras carvalho de moura lira"
      ]
     },
     "execution_count": 16,
     "metadata": {},
     "output_type": "execute_result"
    }
   ],
   "source": [
    "df_nomes = pd.DataFrame({'nome': nomes, 'sobrenome': sobrenomes})\n",
    "df_nomes.head(10)"
   ]
  },
  {
   "cell_type": "code",
   "execution_count": 17,
   "id": "fb4a6dd5",
   "metadata": {},
   "outputs": [],
   "source": [
    "df_nomes.to_parquet('./data/df_nomes.parquet', index=False)"
   ]
  }
 ],
 "metadata": {
  "kernelspec": {
   "display_name": "TopProjI",
   "language": "python",
   "name": "python3"
  },
  "language_info": {
   "codemirror_mode": {
    "name": "ipython",
    "version": 3
   },
   "file_extension": ".py",
   "mimetype": "text/x-python",
   "name": "python",
   "nbconvert_exporter": "python",
   "pygments_lexer": "ipython3",
   "version": "3.12.11"
  }
 },
 "nbformat": 4,
 "nbformat_minor": 5
}
